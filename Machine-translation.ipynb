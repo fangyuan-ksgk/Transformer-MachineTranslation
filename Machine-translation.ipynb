{
 "cells": [
  {
   "cell_type": "code",
   "execution_count": 2,
   "id": "52e84146-fb50-4d86-9adc-f3f199aab90b",
   "metadata": {},
   "outputs": [],
   "source": [
    "import ipywidgets\n",
    "import collections\n",
    "import logging\n",
    "import os\n",
    "import pathlib\n",
    "import re\n",
    "import string\n",
    "import sys\n",
    "import time\n",
    "\n",
    "import numpy as np\n",
    "import matplotlib.pyplot as plt\n",
    "\n",
    "import tensorflow_datasets as tfds\n",
    "import tensorflow_text as text\n",
    "import tensorflow as tf"
   ]
  },
  {
   "cell_type": "code",
   "execution_count": 3,
   "id": "9e00c34e-45b8-4f54-8fe8-1f894f402eed",
   "metadata": {},
   "outputs": [],
   "source": [
    "logging.getLogger('tensorflow').setLevel(logging.ERROR)  # suppress warnings"
   ]
  },
  {
   "cell_type": "code",
   "execution_count": 4,
   "id": "bdbbe89a-6a4d-4fbc-b2c7-c6eb3c1f0dcf",
   "metadata": {
    "tags": []
   },
   "outputs": [
    {
     "name": "stderr",
     "output_type": "stream",
     "text": [
      "2021-11-24 10:09:53.776791: I tensorflow/core/platform/cpu_feature_guard.cc:151] This TensorFlow binary is optimized with oneAPI Deep Neural Network Library (oneDNN) to use the following CPU instructions in performance-critical operations:  AVX2 FMA\n",
      "To enable them in other operations, rebuild TensorFlow with the appropriate compiler flags.\n",
      "WARNING:absl:Warning: Setting shuffle_files=True because split=TRAIN and shuffle_files=None. This behavior will be deprecated on 2019-08-06, at which point shuffle_files=False will be the default for all splits.\n"
     ]
    }
   ],
   "source": [
    "examples, metadata = tfds.load('ted_hrlr_translate/pt_to_en', with_info=True, as_supervised=True)\n",
    "train_examples, val_examples = examples['train'], examples['validation']"
   ]
  },
  {
   "cell_type": "code",
   "execution_count": 5,
   "id": "c6276e5f-4ecf-4db9-ae28-63c7a24ab011",
   "metadata": {
    "tags": []
   },
   "outputs": [
    {
     "name": "stdout",
     "output_type": "stream",
     "text": [
      "os astrónomos acreditam que cada estrela da galáxia tem um planeta , e especulam que até um quinto deles tem um planeta do tipo da terra que poderá ter vida , mas ainda não vimos nenhum deles .\n",
      "o problema é que nunca vivi lá um único dia .\n",
      "agora aqui temos imagens sendo extraídas em tempo real diretamente do feed ,\n",
      "\n",
      "astronomers now believe that every star in the galaxy has a planet , and they speculate that up to one fifth of them have an earth-like planet that might be able to harbor life , but we have n't seen any of them .\n",
      "except , i 've never lived one day of my life there .\n",
      "now here are live images being pulled straight from the feed .\n",
      "agora : um , dois , três , vai .\n",
      "eventualmente , vamos ver se teremos todos os sentidos humanos empregues , e se vamos ter meios para viver a história qualquer que seja a via escolhida .\n",
      "houve alegações de intimidação nas mesas de voto , de urnas de voto serem roubadas .\n",
      "\n",
      "so : one , two , three , go .\n",
      "eventually , we can see if we will have all of our human senses employed , and we will have agency to live the story in any path we choose .\n",
      "there were claims of intimidation at the polling stations , of ballot boxes being stolen .\n"
     ]
    }
   ],
   "source": [
    "for pt_examples, en_examples in train_examples.batch(3).take(2):\n",
    "    for pt in pt_examples.numpy():\n",
    "        print(pt.decode('utf-8'))\n",
    "\n",
    "    print()\n",
    "\n",
    "    for en in en_examples.numpy():\n",
    "        print(en.decode('utf-8'))"
   ]
  },
  {
   "cell_type": "code",
   "execution_count": 6,
   "id": "c3d61872-4b87-4c0b-86b2-519b758c881f",
   "metadata": {},
   "outputs": [
    {
     "data": {
      "text/plain": [
       "'./ted_hrlr_translate_pt_en_converter.zip'"
      ]
     },
     "execution_count": 6,
     "metadata": {},
     "output_type": "execute_result"
    }
   ],
   "source": [
    "model_name = \"ted_hrlr_translate_pt_en_converter\"\n",
    "tf.keras.utils.get_file(\n",
    "    f\"{model_name}.zip\",\n",
    "    f\"https://storage.googleapis.com/download.tensorflow.org/models/{model_name}.zip\",\n",
    "    cache_dir='.', cache_subdir='', extract=True\n",
    ")"
   ]
  },
  {
   "cell_type": "code",
   "execution_count": 15,
   "id": "dc11daaf-8161-4b31-95b1-917fd981ce41",
   "metadata": {},
   "outputs": [
    {
     "data": {
      "text/plain": [
       "12"
      ]
     },
     "execution_count": 15,
     "metadata": {},
     "output_type": "execute_result"
    }
   ],
   "source": [
    "len(encoded.to_list()[0])"
   ]
  },
  {
   "cell_type": "code",
   "execution_count": 17,
   "id": "6a677442-d433-4007-b49f-98713b28822f",
   "metadata": {},
   "outputs": [
    {
     "data": {
      "text/plain": [
       "<tf.RaggedTensor [[2, 82, 27, 103, 13, 165, 13, 218, 13, 164, 15, 3], [2, 877, 13, 78, 94, 125, 107, 78, 153, 89, 101, 74, 108, 226, 4063, 1815, 4575, 13, 72, 78, 153, 89, 4337, 73, 301, 71, 268, 77, 225, 1219, 78, 1000, 15, 3], [2, 96, 129, 2645, 88, 74, 77, 3746, 3911, 2098, 757, 102, 71, 52, 2564, 826, 3535, 13, 74, 1648, 2007, 2641, 222, 4512, 15, 3]]>"
      ]
     },
     "execution_count": 17,
     "metadata": {},
     "output_type": "execute_result"
    }
   ],
   "source": [
    "encoded"
   ]
  },
  {
   "cell_type": "code",
   "execution_count": 16,
   "id": "340fd5b2-3682-45e5-a20a-737f2e55a29d",
   "metadata": {},
   "outputs": [
    {
     "data": {
      "text/plain": [
       "<tf.Tensor: shape=(3, 34), dtype=int64, numpy=\n",
       "array([[   2,   82,   27,  103,   13,  165,   13,  218,   13,  164,   15,\n",
       "           3,    0,    0,    0,    0,    0,    0,    0,    0,    0,    0,\n",
       "           0,    0,    0,    0,    0,    0,    0,    0,    0,    0,    0,\n",
       "           0],\n",
       "       [   2,  877,   13,   78,   94,  125,  107,   78,  153,   89,  101,\n",
       "          74,  108,  226, 4063, 1815, 4575,   13,   72,   78,  153,   89,\n",
       "        4337,   73,  301,   71,  268,   77,  225, 1219,   78, 1000,   15,\n",
       "           3],\n",
       "       [   2,   96,  129, 2645,   88,   74,   77, 3746, 3911, 2098,  757,\n",
       "         102,   71,   52, 2564,  826, 3535,   13,   74, 1648, 2007, 2641,\n",
       "         222, 4512,   15,    3,    0,    0,    0,    0,    0,    0,    0,\n",
       "           0]])>"
      ]
     },
     "execution_count": 16,
     "metadata": {},
     "output_type": "execute_result"
    }
   ],
   "source": [
    "encoded.to_tensor()"
   ]
  },
  {
   "cell_type": "markdown",
   "id": "6ce63448-153f-4ac3-b4e9-33c5d6064399",
   "metadata": {},
   "source": [
    "Tokenize convert string into vector"
   ]
  },
  {
   "cell_type": "code",
   "execution_count": 18,
   "id": "d3420254-e267-4f45-b898-9ca4f925a07e",
   "metadata": {
    "tags": []
   },
   "outputs": [
    {
     "name": "stdout",
     "output_type": "stream",
     "text": [
      "['detokenize', 'get_reserved_tokens', 'get_vocab_path', 'get_vocab_size', 'lookup', 'tokenize', 'tokenizer', 'vocab']\n",
      "so : one , two , three , go .\n",
      "eventually , we can see if we will have all of our human senses employed , and we will have agency to live the story in any path we choose .\n",
      "there were claims of intimidation at the polling stations , of ballot boxes being stolen .\n",
      "[2, 82, 27, 103, 13, 165, 13, 218, 13, 164, 15, 3]\n",
      "[2, 877, 13, 78, 94, 125, 107, 78, 153, 89, 101, 74, 108, 226, 4063, 1815, 4575, 13, 72, 78, 153, 89, 4337, 73, 301, 71, 268, 77, 225, 1219, 78, 1000, 15, 3]\n",
      "[2, 96, 129, 2645, 88, 74, 77, 3746, 3911, 2098, 757, 102, 71, 52, 2564, 826, 3535, 13, 74, 1648, 2007, 2641, 222, 4512, 15, 3]\n",
      "so : one , two , three , go .\n",
      "eventually , we can see if we will have all of our human senses employed , and we will have agency to live the story in any path we choose .\n",
      "there were claims of intimidation at the polling stations , of ballot boxes being stolen .\n"
     ]
    }
   ],
   "source": [
    "\"Interesting fact: tokenized RaggedTensor gets padded when '.to_tensor', but not padded with '.to_list'\"\n",
    "tokenizers = tf.saved_model.load(model_name)\n",
    "# what built-in attributes exist in tokenizer class\n",
    "print([item for item in dir(tokenizers.en) if not item.startswith('_')])\n",
    "\n",
    "for en in en_examples.numpy():\n",
    "    print(en.decode('utf-8'))\n",
    "# tokenize transfer\n",
    "encoded = tokenizers.en.tokenize(en_examples)\n",
    "for row in encoded.to_list():\n",
    "    print(row)\n",
    "# detokenize\n",
    "round_trip = tokenizers.en.detokenize(encoded)\n",
    "for line in round_trip.numpy():\n",
    "    print(line.decode('utf-8'))"
   ]
  },
  {
   "cell_type": "code",
   "execution_count": 19,
   "id": "035b8050-f30a-4d78-9bf2-852cf69332c2",
   "metadata": {},
   "outputs": [
    {
     "data": {
      "text/plain": [
       "<tf.Tensor: shape=(3, 34), dtype=int64, numpy=\n",
       "array([[   2,  133,   28,   85,   14,  220,   14,  255,   14,  226,   16,\n",
       "           3,    0,    0,    0,    0,    0,    0,    0,    0,    0,    0,\n",
       "           0,    0,    0,    0,    0,    0,    0,    0,    0,    0,    0,\n",
       "           0],\n",
       "       [   2, 1795,   14,  191,  139,   89, 1754,  129,   91, 3757,  448,\n",
       "          90,  818, 1159, 3623,   14,   44,   89,  191,  144, 1454,   87,\n",
       "         478,   40,  218,  214,   84,  289,   40, 1183, 5181,  190,   16,\n",
       "           3],\n",
       "       [   2,  725, 3258,  284, 3956,   83, 5917, 1760, 3234, 5688,  188,\n",
       "        6404,   83, 2867,   14,   83,   60, 5747,   83, 2867,  689,   57,\n",
       "         898, 1359,  299,   16,    3,    0,    0,    0,    0,    0,    0,\n",
       "           0]])>"
      ]
     },
     "execution_count": 19,
     "metadata": {},
     "output_type": "execute_result"
    }
   ],
   "source": [
    "\"Padding is done automatically when we applies '.to_tensor'\"\n",
    "pt = tokenizers.pt.tokenize(pt_examples)\n",
    "pt.to_tensor()"
   ]
  },
  {
   "cell_type": "code",
   "execution_count": 172,
   "id": "5799354d-6273-414b-a8cb-d0ee7eef55e4",
   "metadata": {},
   "outputs": [
    {
     "data": {
      "text/plain": [
       "<tf.RaggedTensor [[b'[START]', b'so', b':', b'one', b',', b'two', b',', b'three', b',', b'go', b'.', b'[END]'], [b'[START]', b'eventually', b',', b'we', b'can', b'see', b'if', b'we', b'will', b'have', b'all', b'of', b'our', b'human', b'senses', b'em', b'##ployed', b',', b'and', b'we', b'will', b'have', b'agency', b'to', b'live', b'the', b'story', b'in', b'any', b'path', b'we', b'choose', b'.', b'[END]'], [b'[START]', b'i', b'landed', b'for', b'the', b'first', b'time', b'in', b'r', b'##ome', b',', b'italy', b'.', b'[END]']]>"
      ]
     },
     "execution_count": 172,
     "metadata": {},
     "output_type": "execute_result"
    }
   ],
   "source": [
    "tokens = tokenizers.en.lookup(encoded)\n",
    "tokens"
   ]
  },
  {
   "cell_type": "code",
   "execution_count": 62,
   "id": "f9ddaef3-2de8-4a6a-b630-e8c8204b6bc3",
   "metadata": {},
   "outputs": [],
   "source": [
    "\"The output is NOT word-embedding which for each word gives a d_model dimensional vector\"\n",
    "\"This simply output a token, a value for each word in the sentence and pad with zero to ensure fixed length for each sentence token vector\"\n",
    "def tokenize_pairs(pt, en):\n",
    "    pt = tokenizers.pt.tokenize(pt)\n",
    "    # Convert from ragged to dense, padding with zeros.\n",
    "    pt = pt.to_tensor()\n",
    "\n",
    "    en = tokenizers.en.tokenize(en)\n",
    "    # Convert from ragged to dense, padding with zeros.\n",
    "    en = en.to_tensor()\n",
    "    return pt, en"
   ]
  },
  {
   "cell_type": "code",
   "execution_count": 68,
   "id": "c1c405fe-4785-4d1d-a23a-88057ea55c09",
   "metadata": {},
   "outputs": [],
   "source": [
    "BUFFER_SIZE = 20000\n",
    "BATCH_SIZE = 64\n",
    "\n",
    "def make_batches(ds):\n",
    "      return (\n",
    "      ds\n",
    "      .cache()\n",
    "      .shuffle(BUFFER_SIZE)\n",
    "      .batch(BATCH_SIZE)\n",
    "      .map(tokenize_pairs, num_parallel_calls=tf.data.AUTOTUNE)\n",
    "      .prefetch(tf.data.AUTOTUNE))\n",
    "\n",
    "\n",
    "train_batches = make_batches(train_examples)\n",
    "val_batches = make_batches(val_examples)"
   ]
  },
  {
   "cell_type": "code",
   "execution_count": 22,
   "id": "37a4e77d-7720-406e-a971-50e435fb4053",
   "metadata": {},
   "outputs": [],
   "source": [
    "def get_angles(pos, i, d_model):\n",
    "    angle_rates = 1 / np.power(10000, (2 * (i//2)) / np.float32(d_model))\n",
    "    return pos * angle_rates"
   ]
  },
  {
   "cell_type": "code",
   "execution_count": 23,
   "id": "addd1b61-6470-4384-a0c4-a47c38467959",
   "metadata": {},
   "outputs": [],
   "source": [
    "\"Obtaining the matrix of positional encoding shape (len_seq, d_model)\"\n",
    "\"len_seq = len(input), d_model = dim(embedding_space)\"\n",
    "def positional_encoding(position, d_model):\n",
    "    angle_rads = get_angles(np.arange(position)[:, np.newaxis],\n",
    "                          np.arange(d_model)[np.newaxis, :],\n",
    "                          d_model)\n",
    "\n",
    "    # apply sin to even indices in the array; 2i\n",
    "    angle_rads[:, 0::2] = np.sin(angle_rads[:, 0::2])\n",
    "\n",
    "    # apply cos to odd indices in the array; 2i+1\n",
    "    angle_rads[:, 1::2] = np.cos(angle_rads[:, 1::2])\n",
    "    \n",
    "    # add a new axis to be compatible with batch size, for addition with embedding\n",
    "    pos_encoding = angle_rads[np.newaxis, ...]\n",
    "\n",
    "    return tf.cast(pos_encoding, dtype=tf.float32)"
   ]
  },
  {
   "cell_type": "code",
   "execution_count": 39,
   "id": "445369da-77ff-4497-895f-23e770e472ae",
   "metadata": {},
   "outputs": [
    {
     "data": {
      "image/png": "[encoded data removed]",
      "text/plain": [
       "<Figure size 432x288 with 2 Axes>"
      ]
     },
     "metadata": {
      "needs_background": "light"
     },
     "output_type": "display_data"
    }
   ],
   "source": [
    "n, d = 50, 50\n",
    "pos_encoding = positional_encoding(n, d)\n",
    "pos_encoding = pos_encoding[0]\n",
    "\n",
    "plt.pcolormesh(pos_encoding, cmap='RdBu')\n",
    "plt.ylabel('Depth')\n",
    "plt.xlabel('Position')\n",
    "plt.colorbar()\n",
    "plt.show()"
   ]
  },
  {
   "cell_type": "code",
   "execution_count": 38,
   "id": "8715d77c-a82a-40ed-96d3-7bbb1f327e43",
   "metadata": {},
   "outputs": [
    {
     "name": "stdout",
     "output_type": "stream",
     "text": [
      "(1, 500, 500)\n"
     ]
    },
    {
     "data": {
      "image/png": "[encoded data removed]",
      "text/plain": [
       "<Figure size 432x288 with 2 Axes>"
      ]
     },
     "metadata": {
      "needs_background": "light"
     },
     "output_type": "display_data"
    }
   ],
   "source": [
    "n, d = 500, 500\n",
    "pos_encoding = positional_encoding(n, d)\n",
    "print(pos_encoding.shape)\n",
    "pos_encoding = pos_encoding[0]\n",
    "\n",
    "# Juggle the dimensions for the plot\n",
    "pos_encoding = tf.reshape(pos_encoding, (n, d//2, 2))\n",
    "pos_encoding = tf.transpose(pos_encoding, (2, 1, 0))\n",
    "pos_encoding = tf.reshape(pos_encoding, (d, n))\n",
    "\n",
    "\n",
    "plt.pcolormesh(pos_encoding, cmap='RdBu')\n",
    "plt.ylabel('Depth')\n",
    "plt.xlabel('Position')\n",
    "plt.colorbar()\n",
    "plt.show()"
   ]
  },
  {
   "cell_type": "markdown",
   "id": "c5420bfd-c4a2-45a6-8240-f99d2f5f79b8",
   "metadata": {},
   "source": [
    "1. This padding mask is carefully reshaped to be broadcastable for latter application in Encoder/Decoder\n",
    "2. Basically forbid paying attension to those padded word in input sentence which are indistinguishable after embedding\n",
    "3. Masking for te attension weights, with shape (batch_size, input_seq_len/output_seq_len, input_seq_len/output_seq_len)\n",
    "4. Note that each sentence in the batch should have different padding masks"
   ]
  },
  {
   "cell_type": "code",
   "execution_count": 84,
   "id": "71b7c810-1f40-49ac-bc93-67af82fb1eb1",
   "metadata": {},
   "outputs": [],
   "source": [
    "def create_padding_mask(seq):\n",
    "    # get same-shaped tensor with 1 on all zero entries\n",
    "    seq = tf.cast(tf.math.equal(seq, 0), tf.float32)\n",
    "\n",
    "    # add extra dimensions to add the padding\n",
    "    # to the attention logits.\n",
    "    return seq[:, tf.newaxis, tf.newaxis, :]  # (batch_size, 1, 1, seq_len)"
   ]
  },
  {
   "cell_type": "code",
   "execution_count": 42,
   "id": "6d75d785-78df-48b6-aa75-16e6bd5915f8",
   "metadata": {},
   "outputs": [
    {
     "data": {
      "text/plain": [
       "<tf.Tensor: shape=(3, 1, 1, 5), dtype=float32, numpy=\n",
       "array([[[[0., 0., 1., 1., 0.]]],\n",
       "\n",
       "\n",
       "       [[[0., 0., 0., 1., 1.]]],\n",
       "\n",
       "\n",
       "       [[[1., 1., 1., 0., 0.]]]], dtype=float32)>"
      ]
     },
     "execution_count": 42,
     "metadata": {},
     "output_type": "execute_result"
    }
   ],
   "source": [
    "x = tf.constant([[7, 6, 0, 0, 1], [1, 2, 3, 0, 0], [0, 0, 0, 4, 5]])\n",
    "create_padding_mask(x)"
   ]
  },
  {
   "cell_type": "markdown",
   "id": "8c567ed8-2ce5-45cb-8025-3b2ddd402024",
   "metadata": {},
   "source": [
    "1. The look_ahead mask operates on (Decoder) attension weights of shape (batch_size, target_seq_len, target_seq_len), since the mask is the same across the current batch, we can use a (target_seq_len, target_seq_len) shaped mask to easily broadcast to the attension weights"
   ]
  },
  {
   "cell_type": "code",
   "execution_count": 43,
   "id": "6296595f-2283-4da3-8f32-765a9ae70c96",
   "metadata": {},
   "outputs": [],
   "source": [
    "def create_look_ahead_mask(size):\n",
    "    # get upper triangular part of matrix of 1s\n",
    "    mask = 1 - tf.linalg.band_part(tf.ones((size, size)), -1, 0)\n",
    "    return mask  # (seq_len, seq_len)"
   ]
  },
  {
   "cell_type": "code",
   "execution_count": 46,
   "id": "d4d8322f-1bf4-414d-9e4d-88431eaf720f",
   "metadata": {},
   "outputs": [
    {
     "data": {
      "text/plain": [
       "<tf.Tensor: shape=(2, 2), dtype=float32, numpy=\n",
       "array([[0., 1.],\n",
       "       [0., 0.]], dtype=float32)>"
      ]
     },
     "execution_count": 46,
     "metadata": {},
     "output_type": "execute_result"
    }
   ],
   "source": [
    "create_look_ahead_mask(2)"
   ]
  },
  {
   "cell_type": "code",
   "execution_count": 48,
   "id": "2d0b6ef0-c20e-48fd-986a-30724831381b",
   "metadata": {},
   "outputs": [],
   "source": [
    "def scaled_dot_product_attention(q, k, v, mask):\n",
    "    \"\"\"Calculate the attention weights.\n",
    "    q, k, v must have matching leading dimensions.\n",
    "    k, v must have matching penultimate dimension, i.e.: seq_len_k = seq_len_v.\n",
    "    The mask has different shapes depending on its type(padding or look ahead)\n",
    "    but it must be broadcastable for addition.\n",
    "\n",
    "    Args:\n",
    "    q: query shape == (..., seq_len_q, depth)\n",
    "    k: key shape == (..., seq_len_k, depth)\n",
    "    v: value shape == (..., seq_len_v, depth_v)\n",
    "    mask: Float tensor with shape broadcastable\n",
    "          to (..., seq_len_q, seq_len_k). Defaults to None.\n",
    "\n",
    "    Returns:\n",
    "    output, attention_weights\n",
    "    \"\"\"\n",
    "\n",
    "    matmul_qk = tf.matmul(q, k, transpose_b=True)  # (..., seq_len_q, seq_len_k)\n",
    "\n",
    "    # scale matmul_qk\n",
    "    dk = tf.cast(tf.shape(k)[-1], tf.float32)\n",
    "    scaled_attention_logits = matmul_qk / tf.math.sqrt(dk)\n",
    "\n",
    "    # add the mask to the scaled tensor.\n",
    "    if mask is not None:\n",
    "        scaled_attention_logits += (mask * -1e9)\n",
    "\n",
    "    # softmax is normalized on the last axis (seq_len_k) so that the scores\n",
    "    # add up to 1.\n",
    "    attention_weights = tf.nn.softmax(scaled_attention_logits, axis=-1)  # (..., seq_len_q, seq_len_k)\n",
    "\n",
    "    output = tf.matmul(attention_weights, v)  # (..., seq_len_q, depth_v)\n",
    "\n",
    "    return output, attention_weights"
   ]
  },
  {
   "cell_type": "code",
   "execution_count": 49,
   "id": "dca1a1db-bc29-4a8f-8c9b-ba1d2c29a9c7",
   "metadata": {},
   "outputs": [],
   "source": [
    "def print_out(q, k, v):\n",
    "    temp_out, temp_attn = scaled_dot_product_attention(\n",
    "      q, k, v, None)\n",
    "    print('Attention weights are:')\n",
    "    print(temp_attn)\n",
    "    print('Output is:')\n",
    "    print(temp_out)"
   ]
  },
  {
   "cell_type": "code",
   "execution_count": 96,
   "id": "6c0f8370-5a47-4af6-83a4-6bc89cd27fd4",
   "metadata": {},
   "outputs": [
    {
     "name": "stdout",
     "output_type": "stream",
     "text": [
      "Attention weights are:\n",
      "tf.Tensor([[0. 1. 0. 0.]], shape=(1, 4), dtype=float32)\n",
      "Output is:\n",
      "tf.Tensor([[10.  0.]], shape=(1, 2), dtype=float32)\n"
     ]
    }
   ],
   "source": [
    "np.set_printoptions(suppress=True)\n",
    "\n",
    "temp_k = tf.constant([[10, 0, 0],\n",
    "                      [0, 10, 0],\n",
    "                      [0, 0, 10],\n",
    "                      [0, 0, 10]], dtype=tf.float32)  # (4, 3)\n",
    "\n",
    "temp_v = tf.constant([[1, 0],\n",
    "                      [10, 0],\n",
    "                      [100, 5],\n",
    "                      [1000, 6]], dtype=tf.float32)  # (4, 2)\n",
    "\n",
    "# This `query` aligns with the second `key`,\n",
    "# so the second `value` is returned.\n",
    "temp_q = tf.constant([[0, 10, 0]], dtype=tf.float32)  # (1, 3)\n",
    "print_out(temp_q, temp_k, temp_v)"
   ]
  },
  {
   "cell_type": "code",
   "execution_count": 97,
   "id": "62ec7ef5-c062-4dcc-8ecf-85fb987ae133",
   "metadata": {},
   "outputs": [
    {
     "name": "stdout",
     "output_type": "stream",
     "text": [
      "Attention weights are:\n",
      "tf.Tensor([[0.  0.  0.5 0.5]], shape=(1, 4), dtype=float32)\n",
      "Output is:\n",
      "tf.Tensor([[550.    5.5]], shape=(1, 2), dtype=float32)\n"
     ]
    }
   ],
   "source": [
    "# This query aligns with a repeated key (third and fourth),\n",
    "# so all associated values get averaged.\n",
    "temp_q = tf.constant([[0, 0, 10]], dtype=tf.float32)  # (1, 3)\n",
    "print_out(temp_q, temp_k, temp_v)"
   ]
  },
  {
   "cell_type": "code",
   "execution_count": 98,
   "id": "51cd1555-72a7-482b-80cf-a30be7016d73",
   "metadata": {},
   "outputs": [
    {
     "name": "stdout",
     "output_type": "stream",
     "text": [
      "Attention weights are:\n",
      "tf.Tensor(\n",
      "[[0.  0.  0.5 0.5]\n",
      " [0.  1.  0.  0. ]\n",
      " [0.5 0.5 0.  0. ]], shape=(3, 4), dtype=float32)\n",
      "Output is:\n",
      "tf.Tensor(\n",
      "[[550.    5.5]\n",
      " [ 10.    0. ]\n",
      " [  5.5   0. ]], shape=(3, 2), dtype=float32)\n"
     ]
    }
   ],
   "source": [
    "temp_q = tf.constant([[0, 0, 10],\n",
    "                      [0, 10, 0],\n",
    "                      [10, 10, 0]], dtype=tf.float32)  # (3, 3)\n",
    "print_out(temp_q, temp_k, temp_v)"
   ]
  },
  {
   "cell_type": "code",
   "execution_count": 50,
   "id": "6a741075-b35d-4de9-8d72-f8628e652223",
   "metadata": {},
   "outputs": [],
   "source": [
    "\"Uses depth slices of sub-slice of q,k,v to compute sub-attension, then concat it back\"\n",
    "\"Instead of use the full q,k,v to compute full attension and output the full attension vector\"\n",
    "\n",
    "class MultiHeadAttention(tf.keras.layers.Layer):\n",
    "    def __init__(self, d_model, num_heads):\n",
    "        super(MultiHeadAttention, self).__init__()\n",
    "        self.num_heads = num_heads\n",
    "        self.d_model = d_model\n",
    "\n",
    "        assert d_model % self.num_heads == 0\n",
    "\n",
    "        self.depth = d_model // self.num_heads\n",
    "        \n",
    "        \"Input dimension can be omitted providing that we call the model, it will then infer about the input dim\"\n",
    "        self.wq = tf.keras.layers.Dense(d_model)\n",
    "        self.wk = tf.keras.layers.Dense(d_model)\n",
    "        self.wv = tf.keras.layers.Dense(d_model)\n",
    "\n",
    "        self.dense = tf.keras.layers.Dense(d_model)\n",
    "\n",
    "    def split_heads(self, x, batch_size):\n",
    "        \"\"\"Split the last dimension into (num_heads, depth).\n",
    "        Transpose the result such that the shape is (batch_size, num_heads, seq_len, depth)\n",
    "        \"\"\"\n",
    "        x = tf.reshape(x, (batch_size, -1, self.num_heads, self.depth))\n",
    "        return tf.transpose(x, perm=[0, 2, 1, 3])\n",
    "\n",
    "    def call(self, v, k, q, mask):\n",
    "        batch_size = tf.shape(q)[0]\n",
    "\n",
    "        q = self.wq(q)  # (batch_size, seq_len, d_model)\n",
    "        k = self.wk(k)  # (batch_size, seq_len, d_model)\n",
    "        v = self.wv(v)  # (batch_size, seq_len, d_model)\n",
    "\n",
    "        q = self.split_heads(q, batch_size)  # (batch_size, num_heads, seq_len, depth)\n",
    "        k = self.split_heads(k, batch_size)  # (batch_size, num_heads, seq_len, depth)\n",
    "        v = self.split_heads(v, batch_size)  # (batch_size, num_heads, seq_len, depth)\n",
    "\n",
    "        # scaled_attention.shape == (batch_size, num_heads, seq_len, depth)\n",
    "        # attention_weights.shape == (batch_size, num_heads, seq_len, seq_len)\n",
    "        scaled_attention, attention_weights = scaled_dot_product_attention(\n",
    "            q, k, v, mask)\n",
    "\n",
    "        scaled_attention = tf.transpose(scaled_attention, perm=[0, 2, 1, 3])  # (batch_size, seq_len_q, num_heads, depth)\n",
    "\n",
    "        concat_attention = tf.reshape(scaled_attention,\n",
    "                                      (batch_size, -1, self.d_model))  # (batch_size, seq_len_q, d_model)\n",
    "\n",
    "        output = self.dense(concat_attention)  # (batch_size, seq_len_q, d_model)\n",
    "\n",
    "        return output, attention_weights"
   ]
  },
  {
   "cell_type": "code",
   "execution_count": 51,
   "id": "b01a377d-0ad3-4dba-b830-4054f817048f",
   "metadata": {},
   "outputs": [
    {
     "data": {
      "text/plain": [
       "(TensorShape([1, 60, 512]), TensorShape([1, 8, 60, 60]))"
      ]
     },
     "execution_count": 51,
     "metadata": {},
     "output_type": "execute_result"
    }
   ],
   "source": [
    "temp_mha = MultiHeadAttention(d_model=512, num_heads=8)\n",
    "y = tf.random.uniform((1, 60, 512))  # (batch_size, encoder_sequence, d_model)\n",
    "out, attn = temp_mha(y, k=y, q=y, mask=None)\n",
    "out.shape, attn.shape"
   ]
  },
  {
   "cell_type": "code",
   "execution_count": 52,
   "id": "3aa4f578-2610-4c08-835a-70857b0bb052",
   "metadata": {},
   "outputs": [],
   "source": [
    "\"Input dimension can be omitted providing that we call the model, it will then infer about the input dim\"\n",
    "def point_wise_feed_forward_network(d_model, dff):\n",
    "    return tf.keras.Sequential([\n",
    "      tf.keras.layers.Dense(dff, activation='relu'),  # (batch_size, seq_len, dff)\n",
    "      tf.keras.layers.Dense(d_model)  # (batch_size, seq_len, d_model)\n",
    "    ])"
   ]
  },
  {
   "cell_type": "code",
   "execution_count": 53,
   "id": "4daad353-ba32-483a-9091-bbae7ef58cab",
   "metadata": {},
   "outputs": [
    {
     "data": {
      "text/plain": [
       "TensorShape([64, 50, 512])"
      ]
     },
     "execution_count": 53,
     "metadata": {},
     "output_type": "execute_result"
    }
   ],
   "source": [
    "sample_ffn = point_wise_feed_forward_network(512, 2048)\n",
    "sample_ffn(tf.random.uniform((64, 50, 512))).shape"
   ]
  },
  {
   "cell_type": "code",
   "execution_count": 54,
   "id": "f0460ed1-b51d-4e97-90b4-fc2bac5dc8f1",
   "metadata": {},
   "outputs": [],
   "source": [
    "class EncoderLayer(tf.keras.layers.Layer):\n",
    "    def __init__(self, d_model, num_heads, dff, rate=0.1):\n",
    "        super(EncoderLayer, self).__init__()\n",
    "\n",
    "        self.mha = MultiHeadAttention(d_model, num_heads)\n",
    "        self.ffn = point_wise_feed_forward_network(d_model, dff)\n",
    "\n",
    "        self.layernorm1 = tf.keras.layers.LayerNormalization(epsilon=1e-6)\n",
    "        self.layernorm2 = tf.keras.layers.LayerNormalization(epsilon=1e-6)\n",
    "        # The Dropout layer randomly sets input units to 0 with a frequency of rate at each step \n",
    "        # during training time, which helps prevent overfitting\n",
    "        self.dropout1 = tf.keras.layers.Dropout(rate)\n",
    "        self.dropout2 = tf.keras.layers.Dropout(rate)\n",
    "\n",
    "    def call(self, x, training, mask):\n",
    "        # for the encoder, k,v,q seems to be the same here\n",
    "        attn_output, _ = self.mha(x, x, x, mask)  # (batch_size, input_seq_len, d_model)\n",
    "        attn_output = self.dropout1(attn_output, training=training)\n",
    "        out1 = self.layernorm1(x + attn_output)  # (batch_size, input_seq_len, d_model)\n",
    "\n",
    "        ffn_output = self.ffn(out1)  # (batch_size, input_seq_len, d_model)\n",
    "        ffn_output = self.dropout2(ffn_output, training=training)\n",
    "        out2 = self.layernorm2(out1 + ffn_output)  # (batch_size, input_seq_len, d_model)\n",
    "\n",
    "        return out2"
   ]
  },
  {
   "cell_type": "code",
   "execution_count": 92,
   "id": "def499bb-dc86-4368-b247-567a8288b27e",
   "metadata": {},
   "outputs": [
    {
     "data": {
      "text/plain": [
       "TensorShape([64, 43, 512])"
      ]
     },
     "execution_count": 92,
     "metadata": {},
     "output_type": "execute_result"
    }
   ],
   "source": [
    "sample_encoder_layer = EncoderLayer(512, 8, 2048)\n",
    "\n",
    "sample_encoder_layer_output = sample_encoder_layer(\n",
    "    tf.random.uniform((64, 43, 512)), False, None)\n",
    "\n",
    "sample_encoder_layer_output.shape  # (batch_size, input_seq_len, d_model)"
   ]
  },
  {
   "cell_type": "code",
   "execution_count": 93,
   "id": "bd6a975a-7c93-4f71-aa1f-295b6b7422be",
   "metadata": {},
   "outputs": [],
   "source": [
    "class DecoderLayer(tf.keras.layers.Layer):\n",
    "    def __init__(self, d_model, num_heads, dff, rate=0.1):\n",
    "        super(DecoderLayer, self).__init__()\n",
    "\n",
    "        self.mha1 = MultiHeadAttention(d_model, num_heads)\n",
    "        self.mha2 = MultiHeadAttention(d_model, num_heads)\n",
    "\n",
    "        self.ffn = point_wise_feed_forward_network(d_model, dff)\n",
    "\n",
    "        self.layernorm1 = tf.keras.layers.LayerNormalization(epsilon=1e-6)\n",
    "        self.layernorm2 = tf.keras.layers.LayerNormalization(epsilon=1e-6)\n",
    "        self.layernorm3 = tf.keras.layers.LayerNormalization(epsilon=1e-6)\n",
    "\n",
    "        self.dropout1 = tf.keras.layers.Dropout(rate)\n",
    "        self.dropout2 = tf.keras.layers.Dropout(rate)\n",
    "        self.dropout3 = tf.keras.layers.Dropout(rate)\n",
    "\n",
    "    def call(self, x, enc_output, training, look_ahead_mask, padding_mask):\n",
    "        # enc_output.shape == (batch_size, input_seq_len, d_model)\n",
    "\n",
    "        attn1, attn_weights_block1 = self.mha1(x, x, x, look_ahead_mask)  # (batch_size, target_seq_len, d_model)\n",
    "        attn1 = self.dropout1(attn1, training=training)\n",
    "        out1 = self.layernorm1(attn1 + x)\n",
    "\n",
    "        attn2, attn_weights_block2 = self.mha2(\n",
    "            enc_output, enc_output, out1, padding_mask)  # (batch_size, target_seq_len, d_model)\n",
    "        attn2 = self.dropout2(attn2, training=training)\n",
    "        out2 = self.layernorm2(attn2 + out1)  # (batch_size, target_seq_len, d_model)\n",
    "\n",
    "        ffn_output = self.ffn(out2)  # (batch_size, target_seq_len, d_model)\n",
    "        ffn_output = self.dropout3(ffn_output, training=training)\n",
    "        out3 = self.layernorm3(ffn_output + out2)  # (batch_size, target_seq_len, d_model)\n",
    "\n",
    "        return out3, attn_weights_block1, attn_weights_block2"
   ]
  },
  {
   "cell_type": "code",
   "execution_count": 94,
   "id": "b63c62e7-7c31-4014-9f52-2bb4d978d3e0",
   "metadata": {},
   "outputs": [
    {
     "data": {
      "text/plain": [
       "TensorShape([64, 50, 512])"
      ]
     },
     "execution_count": 94,
     "metadata": {},
     "output_type": "execute_result"
    }
   ],
   "source": [
    "sample_decoder_layer = DecoderLayer(512, 8, 2048)\n",
    "\n",
    "sample_decoder_layer_output, _, _ = sample_decoder_layer(\n",
    "    tf.random.uniform((64, 50, 512)), sample_encoder_layer_output,\n",
    "    False, None, None)\n",
    "\n",
    "sample_decoder_layer_output.shape  # (batch_size, target_seq_len, d_model)"
   ]
  },
  {
   "cell_type": "markdown",
   "id": "08aa605c-69b7-492e-b4ed-826892aab48e",
   "metadata": {},
   "source": [
    "Tip:\n",
    "1. I think maxium_position_encoding = input_seq_len\n",
    "2. The input into Encoder, which is the input into the bottom Encoder layer, x has shape (batch_size, input_seq_len, input_vocab_size). This input_vocab_size is not clear in its meaning, if we use the tokenize operation, we should have input_vocab_size=1."
   ]
  },
  {
   "cell_type": "code",
   "execution_count": 95,
   "id": "444d2e14-0332-4d6f-9fb1-df1e6def7d28",
   "metadata": {},
   "outputs": [],
   "source": [
    "class Encoder(tf.keras.layers.Layer):\n",
    "    def __init__(self, num_layers, d_model, num_heads, dff, input_vocab_size,\n",
    "               maximum_position_encoding, rate=0.1):\n",
    "        super(Encoder, self).__init__()\n",
    "\n",
    "        self.d_model = d_model\n",
    "        self.num_layers = num_layers\n",
    "\n",
    "        self.embedding = tf.keras.layers.Embedding(input_vocab_size, d_model)\n",
    "        self.pos_encoding = positional_encoding(maximum_position_encoding,\n",
    "                                                self.d_model)\n",
    "\n",
    "        self.enc_layers = [EncoderLayer(d_model, num_heads, dff, rate)\n",
    "                           for _ in range(num_layers)]\n",
    "\n",
    "        self.dropout = tf.keras.layers.Dropout(rate)\n",
    "\n",
    "    def call(self, x, training, mask):\n",
    "\n",
    "        seq_len = tf.shape(x)[1]\n",
    "\n",
    "        # adding embedding and position encoding.\n",
    "        x = self.embedding(x)  # (batch_size, input_seq_len, d_model)\n",
    "        x *= tf.math.sqrt(tf.cast(self.d_model, tf.float32))\n",
    "        \"Note that we simply DON'T use positional encoding above seq_len: why setting a huge value to waste time?\"\n",
    "        x += self.pos_encoding[:, :seq_len, :]\n",
    "\n",
    "        x = self.dropout(x, training=training)\n",
    "\n",
    "        for i in range(self.num_layers):\n",
    "            x = self.enc_layers[i](x, training, mask)\n",
    "\n",
    "        return x  # (batch_size, input_seq_len, d_model)"
   ]
  },
  {
   "cell_type": "code",
   "execution_count": 96,
   "id": "816923e4-64f5-4fc8-a90d-6d76fc00b380",
   "metadata": {},
   "outputs": [
    {
     "name": "stdout",
     "output_type": "stream",
     "text": [
      "(64, 62, 512)\n"
     ]
    }
   ],
   "source": [
    "sample_encoder = Encoder(num_layers=2, d_model=512, num_heads=8,\n",
    "                         dff=2048, input_vocab_size=8500,\n",
    "                         maximum_position_encoding=10000)\n",
    "temp_input = tf.random.uniform((64, 62), dtype=tf.int64, minval=0, maxval=200)\n",
    "\n",
    "sample_encoder_output = sample_encoder(temp_input, training=False, mask=None)\n",
    "\n",
    "print(sample_encoder_output.shape)  # (batch_size, input_seq_len, d_model)"
   ]
  },
  {
   "cell_type": "markdown",
   "id": "dfca4540-a5c4-47f1-8ec7-509dbce7e395",
   "metadata": {},
   "source": [
    "Embedding(vocabulary_size, embedding_size, input_length)\n",
    "1. The model will take as input an integer matrix of size (batch,input_length), and the largest integer (i.e. word index) in the input should be no larger than 999 (vocabulary size).\n",
    "2. Turns positive integers (indexes) into dense vectors of fixed size.\n",
    "3. In this case where the Embedding takes input into embedding space, the lost padding information will be saved in the padding_mask and look_ahead mask"
   ]
  },
  {
   "cell_type": "code",
   "execution_count": 97,
   "id": "48f7cfb0-838d-45fa-a683-7ba38269b567",
   "metadata": {},
   "outputs": [],
   "source": [
    "embed = tf.keras.layers.Embedding(4,10, mask_zero=True)"
   ]
  },
  {
   "cell_type": "code",
   "execution_count": 98,
   "id": "adcec074-ab0c-47bf-bc2e-7d861bb82945",
   "metadata": {},
   "outputs": [
    {
     "data": {
      "text/plain": [
       "<tf.Tensor: shape=(4, 10), dtype=float32, numpy=\n",
       "array([[ 0.02101673, -0.0489826 ,  0.0239245 , -0.02937025, -0.02208938,\n",
       "        -0.03704124,  0.01922918,  0.03659913,  0.02489883,  0.04606501],\n",
       "       [ 0.0302755 , -0.00320099, -0.01350724, -0.02893493, -0.01680789,\n",
       "         0.03544516,  0.02435182, -0.01402058, -0.03626429,  0.01576466],\n",
       "       [ 0.01492691,  0.02683071,  0.04329981,  0.01016045,  0.0147492 ,\n",
       "         0.03431309,  0.01823944, -0.02402728,  0.01551032, -0.03391454],\n",
       "       [ 0.04493027,  0.04579363,  0.03945151, -0.01774701,  0.04178466,\n",
       "        -0.02528396,  0.04129927, -0.01801152, -0.02120084,  0.04023284]],\n",
       "      dtype=float32)>"
      ]
     },
     "execution_count": 98,
     "metadata": {},
     "output_type": "execute_result"
    }
   ],
   "source": [
    "embed(tf.range(4))"
   ]
  },
  {
   "cell_type": "code",
   "execution_count": 99,
   "id": "e5d08d9e-49cc-4883-bfe5-3e36fb6f43d0",
   "metadata": {},
   "outputs": [],
   "source": [
    "class Decoder(tf.keras.layers.Layer):\n",
    "    def __init__(self, num_layers, d_model, num_heads, dff, target_vocab_size,\n",
    "               maximum_position_encoding, rate=0.1):\n",
    "        super(Decoder, self).__init__()\n",
    "\n",
    "        self.d_model = d_model\n",
    "        self.num_layers = num_layers\n",
    "\n",
    "        self.embedding = tf.keras.layers.Embedding(target_vocab_size, d_model)\n",
    "        self.pos_encoding = positional_encoding(maximum_position_encoding, d_model)\n",
    "\n",
    "        self.dec_layers = [DecoderLayer(d_model, num_heads, dff, rate)\n",
    "                           for _ in range(num_layers)]\n",
    "        self.dropout = tf.keras.layers.Dropout(rate)\n",
    "\n",
    "    def call(self, x, enc_output, training,\n",
    "           look_ahead_mask, padding_mask):\n",
    "\n",
    "        seq_len = tf.shape(x)[1]\n",
    "        attention_weights = {}\n",
    "\n",
    "        x = self.embedding(x)  # (batch_size, target_seq_len, d_model)\n",
    "        x *= tf.math.sqrt(tf.cast(self.d_model, tf.float32))\n",
    "        x += self.pos_encoding[:, :seq_len, :]\n",
    "\n",
    "        x = self.dropout(x, training=training)\n",
    "\n",
    "        for i in range(self.num_layers):\n",
    "            x, block1, block2 = self.dec_layers[i](x, enc_output, training,\n",
    "                                                 look_ahead_mask, padding_mask)\n",
    "\n",
    "            attention_weights[f'decoder_layer{i+1}_block1'] = block1\n",
    "            attention_weights[f'decoder_layer{i+1}_block2'] = block2\n",
    "\n",
    "        # x.shape == (batch_size, target_seq_len, d_model)\n",
    "        return x, attention_weights"
   ]
  },
  {
   "cell_type": "code",
   "execution_count": 100,
   "id": "f08ddc9a-3828-4d04-af98-257295b68087",
   "metadata": {},
   "outputs": [
    {
     "data": {
      "text/plain": [
       "(TensorShape([64, 26, 512]), TensorShape([64, 8, 26, 62]))"
      ]
     },
     "execution_count": 100,
     "metadata": {},
     "output_type": "execute_result"
    }
   ],
   "source": [
    "sample_decoder = Decoder(num_layers=2, d_model=512, num_heads=8,\n",
    "                         dff=2048, target_vocab_size=8000,\n",
    "                         maximum_position_encoding=5000)\n",
    "temp_input = tf.random.uniform((64, 26), dtype=tf.int64, minval=0, maxval=200)\n",
    "\n",
    "output, attn = sample_decoder(temp_input,\n",
    "                              enc_output=sample_encoder_output,\n",
    "                              training=False,\n",
    "                              look_ahead_mask=None,\n",
    "                              padding_mask=None)\n",
    "\n",
    "output.shape, attn['decoder_layer2_block2'].shape"
   ]
  },
  {
   "cell_type": "markdown",
   "id": "5701c8f4-a61b-418c-aae3-e13ea7160775",
   "metadata": {},
   "source": [
    "1. The final layer which takes output from decoder (batch_size, target_seq_len, d_model) to vector representing proability of each word('s token) in the target language\n",
    "2. Note that although the attension weights get masked, the attension matrix (output of attension function) still can have non-zero values on all its entries.\n",
    "3. That implies at attension model, we output the 'prediction' of the full sentence by paying attension only on un-masked parts for relvent sentence. \n",
    "4. Such 'early full prediction' is NOT taken into account as next input into decoder layer, yet they are eually considered (not masked or less weighted manually) at the final-layer, compared to the 'calculated prediction' which precedes the current word of interest. This is weird because there is a bichotomy on wheter importance is placed on such 'early prediction'."
   ]
  },
  {
   "cell_type": "code",
   "execution_count": 101,
   "id": "1cb45e88-abf3-4e51-b8c8-0df2e48c7c7b",
   "metadata": {},
   "outputs": [],
   "source": [
    "class Transformer(tf.keras.Model):\n",
    "    def __init__(self, num_layers, d_model, num_heads, dff, input_vocab_size,\n",
    "               target_vocab_size, pe_input, pe_target, rate=0.1):\n",
    "        super().__init__()\n",
    "        self.encoder = Encoder(num_layers, d_model, num_heads, dff,\n",
    "                                 input_vocab_size, pe_input, rate)\n",
    "\n",
    "        self.decoder = Decoder(num_layers, d_model, num_heads, dff,\n",
    "                               target_vocab_size, pe_target, rate)\n",
    "        \"This final_layer is the third component of Transformer, which output prob of next word in target language\"\n",
    "        self.final_layer = tf.keras.layers.Dense(target_vocab_size)\n",
    "\n",
    "    def call(self, inputs, training):\n",
    "        # Keras models prefer if you pass all your inputs in the first argument\n",
    "        inp, tar = inputs\n",
    "\n",
    "        enc_padding_mask, look_ahead_mask, dec_padding_mask = self.create_masks(inp, tar)\n",
    "\n",
    "        enc_output = self.encoder(inp, training, enc_padding_mask)  # (batch_size, inp_seq_len, d_model)\n",
    "\n",
    "        # dec_output.shape == (batch_size, tar_seq_len, d_model)\n",
    "        dec_output, attention_weights = self.decoder(\n",
    "            tar, enc_output, training, look_ahead_mask, dec_padding_mask)\n",
    "\n",
    "        final_output = self.final_layer(dec_output)  # (batch_size, tar_seq_len, target_vocab_size)\n",
    "\n",
    "        return final_output, attention_weights\n",
    "\n",
    "    def create_masks(self, inp, tar):\n",
    "        # Encoder padding mask\n",
    "        enc_padding_mask = create_padding_mask(inp)\n",
    "\n",
    "        # Used in the 2nd attention block in the decoder.\n",
    "        # This padding mask is used to mask the encoder outputs.\n",
    "        dec_padding_mask = create_padding_mask(inp)\n",
    "\n",
    "        # Used in the 1st attention block in the decoder.\n",
    "        # It is used to pad and mask future tokens in the input received by\n",
    "        # the decoder.\n",
    "        look_ahead_mask = create_look_ahead_mask(tf.shape(tar)[1])\n",
    "        dec_target_padding_mask = create_padding_mask(tar)\n",
    "        look_ahead_mask = tf.maximum(dec_target_padding_mask, look_ahead_mask)\n",
    "\n",
    "        return enc_padding_mask, look_ahead_mask, dec_padding_mask"
   ]
  },
  {
   "cell_type": "code",
   "execution_count": 102,
   "id": "cc39fb16-1bb6-4966-8b11-7abf1703c478",
   "metadata": {},
   "outputs": [
    {
     "data": {
      "text/plain": [
       "TensorShape([64, 36, 8000])"
      ]
     },
     "execution_count": 102,
     "metadata": {},
     "output_type": "execute_result"
    }
   ],
   "source": [
    "sample_transformer = Transformer(\n",
    "    num_layers=2, d_model=512, num_heads=8, dff=2048,\n",
    "    input_vocab_size=8500, target_vocab_size=8000,\n",
    "    pe_input=10000, pe_target=6000)\n",
    "\n",
    "temp_input = tf.random.uniform((64, 38), dtype=tf.int64, minval=0, maxval=200)\n",
    "temp_target = tf.random.uniform((64, 36), dtype=tf.int64, minval=0, maxval=200)\n",
    "\n",
    "fn_out, _ = sample_transformer([temp_input, temp_target], training=False)\n",
    "\n",
    "fn_out.shape  # (batch_size, tar_seq_len, target_vocab_size)"
   ]
  },
  {
   "cell_type": "code",
   "execution_count": 103,
   "id": "e8070a63-b22b-45ac-8b64-61ddf8ff9eb8",
   "metadata": {},
   "outputs": [],
   "source": [
    "num_layers = 4\n",
    "d_model = 128\n",
    "dff = 512\n",
    "num_heads = 8\n",
    "dropout_rate = 0.1"
   ]
  },
  {
   "cell_type": "code",
   "execution_count": 104,
   "id": "9840124e-b0b5-41d8-bade-7967b1587aac",
   "metadata": {},
   "outputs": [],
   "source": [
    "class CustomSchedule(tf.keras.optimizers.schedules.LearningRateSchedule):\n",
    "    def __init__(self, d_model, warmup_steps=4000):\n",
    "        super(CustomSchedule, self).__init__()\n",
    "\n",
    "        self.d_model = d_model\n",
    "        self.d_model = tf.cast(self.d_model, tf.float32)\n",
    "\n",
    "        self.warmup_steps = warmup_steps\n",
    "\n",
    "    def __call__(self, step):\n",
    "        arg1 = tf.math.rsqrt(step)\n",
    "        arg2 = step * (self.warmup_steps ** -1.5)\n",
    "\n",
    "        return tf.math.rsqrt(self.d_model) * tf.math.minimum(arg1, arg2)"
   ]
  },
  {
   "cell_type": "code",
   "execution_count": 105,
   "id": "8b0e4f54-2297-48ec-a95e-e83127e8632f",
   "metadata": {},
   "outputs": [],
   "source": [
    "learning_rate = CustomSchedule(d_model)\n",
    "\n",
    "optimizer = tf.keras.optimizers.Adam(learning_rate, beta_1=0.9, beta_2=0.98,\n",
    "                                     epsilon=1e-9)"
   ]
  },
  {
   "cell_type": "code",
   "execution_count": 106,
   "id": "b68909a6-5996-4d06-af78-304fbeee2131",
   "metadata": {},
   "outputs": [
    {
     "data": {
      "text/plain": [
       "Text(0.5, 0, 'Train Step')"
      ]
     },
     "execution_count": 106,
     "metadata": {},
     "output_type": "execute_result"
    },
    {
     "data": {
      "image/png": "[encoded data removed]",
      "text/plain": [
       "<Figure size 432x288 with 1 Axes>"
      ]
     },
     "metadata": {
      "needs_background": "light"
     },
     "output_type": "display_data"
    }
   ],
   "source": [
    "temp_learning_rate_schedule = CustomSchedule(d_model)\n",
    "\n",
    "plt.plot(temp_learning_rate_schedule(tf.range(40000, dtype=tf.float32)))\n",
    "plt.ylabel(\"Learning Rate\")\n",
    "plt.xlabel(\"Train Step\")"
   ]
  },
  {
   "cell_type": "code",
   "execution_count": 111,
   "id": "f35dc3f9-efda-4ffd-bb49-91294394e252",
   "metadata": {},
   "outputs": [],
   "source": [
    "# from logits=True means it applies softmax itself, thus our final-layer don't need to add softmax\n",
    "loss_object = tf.keras.losses.SparseCategoricalCrossentropy(\n",
    "    from_logits=True, reduction='none')"
   ]
  },
  {
   "cell_type": "code",
   "execution_count": 116,
   "id": "a32b2d45-813d-44c8-b913-f5963883c061",
   "metadata": {},
   "outputs": [
    {
     "data": {
      "text/plain": [
       "<tf.Tensor: shape=(4,), dtype=float32, numpy=\n",
       "array([3.3539868e-04, 1.3132616e+00, 1.3132616e+00, 3.1326166e-01],\n",
       "      dtype=float32)>"
      ]
     },
     "execution_count": 116,
     "metadata": {},
     "output_type": "execute_result"
    }
   ],
   "source": [
    "loss_object(\n",
    "  tf.constant([ 0,    0,    0,    1   ], tf.float32),\n",
    "  tf.constant([[10,2],[3,4],[5,6],[7,8]], tf.float32))"
   ]
  },
  {
   "cell_type": "code",
   "execution_count": 112,
   "id": "a9066f8d-8f70-473f-b7cf-517cdf298243",
   "metadata": {},
   "outputs": [],
   "source": [
    "def loss_function(real, pred):\n",
    "    \"this mask is to ensure we consider only loss value on word of interest\"\n",
    "    mask = tf.math.logical_not(tf.math.equal(real, 0))\n",
    "    loss_ = loss_object(real, pred)\n",
    "    \n",
    "    mask = tf.cast(mask, dtype=loss_.dtype)\n",
    "    loss_ *= mask\n",
    "\n",
    "    return tf.reduce_sum(loss_)/tf.reduce_sum(mask)\n",
    "\n",
    "\n",
    "def accuracy_function(real, pred):\n",
    "    accuracies = tf.equal(real, tf.argmax(pred, axis=2))\n",
    "\n",
    "    mask = tf.math.logical_not(tf.math.equal(real, 0))\n",
    "    accuracies = tf.math.logical_and(mask, accuracies)\n",
    "\n",
    "    accuracies = tf.cast(accuracies, dtype=tf.float32)\n",
    "    mask = tf.cast(mask, dtype=tf.float32)\n",
    "    return tf.reduce_sum(accuracies)/tf.reduce_sum(mask)"
   ]
  },
  {
   "cell_type": "code",
   "execution_count": 109,
   "id": "0315d0b5-1e2f-4b77-aaa9-1b5c8d0d43b2",
   "metadata": {},
   "outputs": [],
   "source": [
    "train_loss = tf.keras.metrics.Mean(name='train_loss')\n",
    "train_accuracy = tf.keras.metrics.Mean(name='train_accuracy')"
   ]
  },
  {
   "cell_type": "code",
   "execution_count": 110,
   "id": "577e15dd-d76b-46ce-a1f0-846e54bdd254",
   "metadata": {},
   "outputs": [],
   "source": [
    "transformer = Transformer(\n",
    "    num_layers=num_layers,\n",
    "    d_model=d_model,\n",
    "    num_heads=num_heads,\n",
    "    dff=dff,\n",
    "    input_vocab_size=tokenizers.pt.get_vocab_size().numpy(),\n",
    "    target_vocab_size=tokenizers.en.get_vocab_size().numpy(),\n",
    "    pe_input=1000,\n",
    "    pe_target=1000,\n",
    "    rate=dropout_rate)"
   ]
  },
  {
   "cell_type": "code",
   "execution_count": 123,
   "id": "b676d3e8-b9ba-4784-89dd-cf197186d3e4",
   "metadata": {},
   "outputs": [],
   "source": [
    "checkpoint_path = \"./checkpoints/train\"\n",
    "\n",
    "ckpt = tf.train.Checkpoint(transformer=transformer,\n",
    "                           optimizer=optimizer)\n",
    "\n",
    "ckpt_manager = tf.train.CheckpointManager(ckpt, checkpoint_path, max_to_keep=5)\n",
    "\n",
    "# if a checkpoint exists, restore the latest checkpoint.\n",
    "if ckpt_manager.latest_checkpoint:\n",
    "    ckpt.restore(ckpt_manager.latest_checkpoint)\n",
    "    print('Latest checkpoint restored!!')"
   ]
  },
  {
   "cell_type": "code",
   "execution_count": 124,
   "id": "2d500343-3dff-4deb-9a86-1d61e1b4bcfe",
   "metadata": {},
   "outputs": [],
   "source": [
    "EPOCHS = 20"
   ]
  },
  {
   "cell_type": "code",
   "execution_count": 125,
   "id": "fe05c59b-a8c3-437e-ac55-fe225ee16458",
   "metadata": {},
   "outputs": [],
   "source": [
    "# The @tf.function trace-compiles train_step into a TF graph for faster\n",
    "# execution. The function specializes to the precise shape of the argument\n",
    "# tensors. To avoid re-tracing due to the variable sequence lengths or variable\n",
    "# batch sizes (the last batch is smaller), use input_signature to specify\n",
    "# more generic shapes.\n",
    "\n",
    "train_step_signature = [\n",
    "    tf.TensorSpec(shape=(None, None), dtype=tf.int64),\n",
    "    tf.TensorSpec(shape=(None, None), dtype=tf.int64),\n",
    "]\n",
    "\n",
    "\n",
    "@tf.function(input_signature=train_step_signature)\n",
    "def train_step(inp, tar):\n",
    "    tar_inp = tar[:, :-1]\n",
    "    tar_real = tar[:, 1:]\n",
    "\n",
    "    with tf.GradientTape() as tape:\n",
    "        predictions, _ = transformer([inp, tar_inp],\n",
    "                                     training = True)\n",
    "        loss = loss_function(tar_real, predictions)\n",
    "\n",
    "    gradients = tape.gradient(loss, transformer.trainable_variables)\n",
    "    optimizer.apply_gradients(zip(gradients, transformer.trainable_variables))\n",
    "\n",
    "    train_loss(loss)\n",
    "    train_accuracy(accuracy_function(tar_real, predictions))"
   ]
  },
  {
   "cell_type": "code",
   "execution_count": 126,
   "id": "cbfbcfae-37f8-4729-bb37-3b2a9f16565d",
   "metadata": {
    "collapsed": true,
    "jupyter": {
     "outputs_hidden": true
    },
    "tags": []
   },
   "outputs": [
    {
     "name": "stdout",
     "output_type": "stream",
     "text": [
      "WARNING: AutoGraph could not transform <function train_step at 0x14907d320> and will run it as-is.\n",
      "Please report this to the TensorFlow team. When filing the bug, set the verbosity to 10 (on Linux, `export AUTOGRAPH_VERBOSITY=10`) and attach the full output.\n",
      "Cause: module 'gast' has no attribute 'Constant'\n",
      "To silence this warning, decorate the function with @tf.autograph.experimental.do_not_convert\n",
      "WARNING: AutoGraph could not transform <bound method Transformer.call of <__main__.Transformer object at 0x142741990>> and will run it as-is.\n",
      "Please report this to the TensorFlow team. When filing the bug, set the verbosity to 10 (on Linux, `export AUTOGRAPH_VERBOSITY=10`) and attach the full output.\n",
      "Cause: 'arguments' object has no attribute 'posonlyargs'\n",
      "To silence this warning, decorate the function with @tf.autograph.experimental.do_not_convert\n",
      "WARNING: AutoGraph could not transform <bound method Encoder.call of <__main__.Encoder object at 0x1430766d0>> and will run it as-is.\n",
      "Please report this to the TensorFlow team. When filing the bug, set the verbosity to 10 (on Linux, `export AUTOGRAPH_VERBOSITY=10`) and attach the full output.\n",
      "Cause: module 'gast' has no attribute 'Constant'\n",
      "To silence this warning, decorate the function with @tf.autograph.experimental.do_not_convert\n",
      "WARNING: AutoGraph could not transform <bound method EncoderLayer.call of <__main__.EncoderLayer object at 0x145f8b490>> and will run it as-is.\n",
      "Please report this to the TensorFlow team. When filing the bug, set the verbosity to 10 (on Linux, `export AUTOGRAPH_VERBOSITY=10`) and attach the full output.\n",
      "Cause: 'arguments' object has no attribute 'posonlyargs'\n",
      "To silence this warning, decorate the function with @tf.autograph.experimental.do_not_convert\n",
      "WARNING: AutoGraph could not transform <bound method MultiHeadAttention.call of <__main__.MultiHeadAttention object at 0x145fa1110>> and will run it as-is.\n",
      "Please report this to the TensorFlow team. When filing the bug, set the verbosity to 10 (on Linux, `export AUTOGRAPH_VERBOSITY=10`) and attach the full output.\n",
      "Cause: module 'gast' has no attribute 'Constant'\n",
      "To silence this warning, decorate the function with @tf.autograph.experimental.do_not_convert\n",
      "WARNING: AutoGraph could not transform <bound method Decoder.call of <__main__.Decoder object at 0x145f8b510>> and will run it as-is.\n",
      "Please report this to the TensorFlow team. When filing the bug, set the verbosity to 10 (on Linux, `export AUTOGRAPH_VERBOSITY=10`) and attach the full output.\n",
      "Cause: module 'gast' has no attribute 'Constant'\n",
      "To silence this warning, decorate the function with @tf.autograph.experimental.do_not_convert\n",
      "WARNING: AutoGraph could not transform <bound method DecoderLayer.call of <__main__.DecoderLayer object at 0x144e43d10>> and will run it as-is.\n",
      "Please report this to the TensorFlow team. When filing the bug, set the verbosity to 10 (on Linux, `export AUTOGRAPH_VERBOSITY=10`) and attach the full output.\n",
      "Cause: 'arguments' object has no attribute 'posonlyargs'\n",
      "To silence this warning, decorate the function with @tf.autograph.experimental.do_not_convert\n",
      "Epoch 1 Batch 0 Loss 8.8696 Accuracy 0.0000\n",
      "Epoch 1 Batch 50 Loss 8.8033 Accuracy 0.0085\n",
      "Epoch 1 Batch 100 Loss 8.7004 Accuracy 0.0299\n",
      "Epoch 1 Batch 150 Loss 8.5867 Accuracy 0.0386\n",
      "Epoch 1 Batch 200 Loss 8.4440 Accuracy 0.0434\n",
      "Epoch 1 Batch 250 Loss 8.2738 Accuracy 0.0463\n",
      "Epoch 1 Batch 300 Loss 8.0814 Accuracy 0.0513\n",
      "Epoch 1 Batch 350 Loss 7.8849 Accuracy 0.0575\n",
      "Epoch 1 Batch 400 Loss 7.6997 Accuracy 0.0641\n",
      "Epoch 1 Batch 450 Loss 7.5340 Accuracy 0.0714\n",
      "Epoch 1 Batch 500 Loss 7.3876 Accuracy 0.0786\n",
      "Epoch 1 Batch 550 Loss 7.2519 Accuracy 0.0862\n",
      "Epoch 1 Batch 600 Loss 7.1292 Accuracy 0.0931\n",
      "Epoch 1 Batch 650 Loss 7.0126 Accuracy 0.1001\n",
      "Epoch 1 Batch 700 Loss 6.9057 Accuracy 0.1066\n",
      "Epoch 1 Batch 750 Loss 6.8067 Accuracy 0.1126\n",
      "Epoch 1 Batch 800 Loss 6.7131 Accuracy 0.1185\n",
      "Epoch 1 Loss 6.6970 Accuracy 0.1196\n",
      "Time taken for 1 epoch: 1204.30 secs\n",
      "\n",
      "Epoch 2 Batch 0 Loss 5.1181 Accuracy 0.2174\n",
      "Epoch 2 Batch 50 Loss 5.2409 Accuracy 0.2094\n",
      "Epoch 2 Batch 100 Loss 5.1931 Accuracy 0.2167\n",
      "Epoch 2 Batch 150 Loss 5.1637 Accuracy 0.2201\n",
      "Epoch 2 Batch 200 Loss 5.1357 Accuracy 0.2232\n",
      "Epoch 2 Batch 250 Loss 5.1070 Accuracy 0.2262\n",
      "Epoch 2 Batch 300 Loss 5.0836 Accuracy 0.2287\n",
      "Epoch 2 Batch 350 Loss 5.0633 Accuracy 0.2305\n",
      "Epoch 2 Batch 400 Loss 5.0375 Accuracy 0.2332\n",
      "Epoch 2 Batch 450 Loss 5.0154 Accuracy 0.2352\n",
      "Epoch 2 Batch 500 Loss 4.9952 Accuracy 0.2370\n",
      "Epoch 2 Batch 550 Loss 4.9754 Accuracy 0.2387\n",
      "Epoch 2 Batch 600 Loss 4.9557 Accuracy 0.2406\n",
      "Epoch 2 Batch 650 Loss 4.9358 Accuracy 0.2424\n",
      "Epoch 2 Batch 700 Loss 4.9189 Accuracy 0.2439\n",
      "Epoch 2 Batch 750 Loss 4.9031 Accuracy 0.2453\n",
      "Epoch 2 Batch 800 Loss 4.8869 Accuracy 0.2467\n",
      "Epoch 2 Loss 4.8839 Accuracy 0.2471\n",
      "Time taken for 1 epoch: 1146.46 secs\n",
      "\n",
      "Epoch 3 Batch 0 Loss 4.6707 Accuracy 0.2591\n",
      "Epoch 3 Batch 50 Loss 4.5992 Accuracy 0.2708\n",
      "Epoch 3 Batch 100 Loss 4.5861 Accuracy 0.2730\n",
      "Epoch 3 Batch 150 Loss 4.5594 Accuracy 0.2753\n",
      "Epoch 3 Batch 200 Loss 4.5481 Accuracy 0.2761\n",
      "Epoch 3 Batch 250 Loss 4.5270 Accuracy 0.2784\n",
      "Epoch 3 Batch 300 Loss 4.5079 Accuracy 0.2808\n",
      "Epoch 3 Batch 350 Loss 4.4910 Accuracy 0.2828\n",
      "Epoch 3 Batch 400 Loss 4.4737 Accuracy 0.2848\n",
      "Epoch 3 Batch 450 Loss 4.4611 Accuracy 0.2862\n",
      "Epoch 3 Batch 500 Loss 4.4493 Accuracy 0.2875\n",
      "Epoch 3 Batch 550 Loss 4.4352 Accuracy 0.2892\n",
      "Epoch 3 Batch 600 Loss 4.4220 Accuracy 0.2910\n",
      "Epoch 3 Batch 650 Loss 4.4059 Accuracy 0.2930\n",
      "Epoch 3 Batch 700 Loss 4.3913 Accuracy 0.2949\n",
      "Epoch 3 Batch 750 Loss 4.3730 Accuracy 0.2970\n",
      "Epoch 3 Batch 800 Loss 4.3591 Accuracy 0.2987\n",
      "Epoch 3 Loss 4.3562 Accuracy 0.2990\n",
      "Time taken for 1 epoch: 1162.60 secs\n",
      "\n",
      "Epoch 4 Batch 0 Loss 4.0307 Accuracy 0.3396\n",
      "Epoch 4 Batch 50 Loss 4.0395 Accuracy 0.3322\n",
      "Epoch 4 Batch 100 Loss 4.0086 Accuracy 0.3369\n",
      "Epoch 4 Batch 150 Loss 3.9811 Accuracy 0.3402\n",
      "Epoch 4 Batch 200 Loss 3.9718 Accuracy 0.3417\n",
      "Epoch 4 Batch 250 Loss 3.9515 Accuracy 0.3447\n",
      "Epoch 4 Batch 300 Loss 3.9369 Accuracy 0.3466\n",
      "Epoch 4 Batch 350 Loss 3.9229 Accuracy 0.3486\n",
      "Epoch 4 Batch 400 Loss 3.9131 Accuracy 0.3497\n",
      "Epoch 4 Batch 450 Loss 3.8981 Accuracy 0.3519\n",
      "Epoch 4 Batch 500 Loss 3.8870 Accuracy 0.3535\n",
      "Epoch 4 Batch 550 Loss 3.8696 Accuracy 0.3561\n",
      "Epoch 4 Batch 600 Loss 3.8540 Accuracy 0.3582\n",
      "Epoch 4 Batch 650 Loss 3.8388 Accuracy 0.3607\n",
      "Epoch 4 Batch 700 Loss 3.8269 Accuracy 0.3623\n",
      "Epoch 4 Batch 750 Loss 3.8142 Accuracy 0.3639\n",
      "Epoch 4 Batch 800 Loss 3.8034 Accuracy 0.3654\n",
      "Epoch 4 Loss 3.8016 Accuracy 0.3656\n",
      "Time taken for 1 epoch: 1198.25 secs\n",
      "\n",
      "Epoch 5 Batch 0 Loss 3.5046 Accuracy 0.3813\n",
      "Epoch 5 Batch 50 Loss 3.5229 Accuracy 0.3973\n",
      "Epoch 5 Batch 100 Loss 3.4618 Accuracy 0.4063\n",
      "Epoch 5 Batch 150 Loss 3.4524 Accuracy 0.4070\n",
      "Epoch 5 Batch 200 Loss 3.4465 Accuracy 0.4082\n",
      "Epoch 5 Batch 250 Loss 3.4386 Accuracy 0.4087\n",
      "Epoch 5 Batch 300 Loss 3.4303 Accuracy 0.4098\n",
      "Epoch 5 Batch 350 Loss 3.4237 Accuracy 0.4108\n",
      "Epoch 5 Batch 400 Loss 3.4182 Accuracy 0.4117\n",
      "Epoch 5 Batch 450 Loss 3.4141 Accuracy 0.4121\n",
      "Epoch 5 Batch 500 Loss 3.4079 Accuracy 0.4131\n",
      "Epoch 5 Batch 550 Loss 3.4009 Accuracy 0.4142\n",
      "Epoch 5 Batch 600 Loss 3.3929 Accuracy 0.4153\n",
      "Epoch 5 Batch 650 Loss 3.3823 Accuracy 0.4165\n",
      "Epoch 5 Batch 700 Loss 3.3745 Accuracy 0.4175\n",
      "Epoch 5 Batch 750 Loss 3.3669 Accuracy 0.4187\n",
      "Epoch 5 Batch 800 Loss 3.3598 Accuracy 0.4195\n",
      "Saving checkpoint for epoch 5 at ./checkpoints/train/ckpt-1\n",
      "Epoch 5 Loss 3.3583 Accuracy 0.4197\n",
      "Time taken for 1 epoch: 1091.28 secs\n",
      "\n",
      "Epoch 6 Batch 0 Loss 2.9211 Accuracy 0.4719\n",
      "Epoch 6 Batch 50 Loss 3.0790 Accuracy 0.4499\n",
      "Epoch 6 Batch 100 Loss 3.0703 Accuracy 0.4521\n",
      "Epoch 6 Batch 150 Loss 3.0724 Accuracy 0.4529\n",
      "Epoch 6 Batch 200 Loss 3.0628 Accuracy 0.4542\n",
      "Epoch 6 Batch 250 Loss 3.0537 Accuracy 0.4559\n",
      "Epoch 6 Batch 300 Loss 3.0416 Accuracy 0.4579\n",
      "Epoch 6 Batch 350 Loss 3.0370 Accuracy 0.4588\n",
      "Epoch 6 Batch 400 Loss 3.0335 Accuracy 0.4591\n",
      "Epoch 6 Batch 450 Loss 3.0190 Accuracy 0.4612\n",
      "Epoch 6 Batch 500 Loss 3.0092 Accuracy 0.4626\n",
      "Epoch 6 Batch 550 Loss 3.0016 Accuracy 0.4636\n",
      "Epoch 6 Batch 600 Loss 2.9914 Accuracy 0.4650\n",
      "Epoch 6 Batch 650 Loss 2.9850 Accuracy 0.4660\n",
      "Epoch 6 Batch 700 Loss 2.9805 Accuracy 0.4666\n",
      "Epoch 6 Batch 750 Loss 2.9764 Accuracy 0.4673\n",
      "Epoch 6 Batch 800 Loss 2.9682 Accuracy 0.4685\n",
      "Epoch 6 Loss 2.9680 Accuracy 0.4685\n",
      "Time taken for 1 epoch: 1087.17 secs\n",
      "\n",
      "Epoch 7 Batch 0 Loss 2.9946 Accuracy 0.4536\n",
      "Epoch 7 Batch 50 Loss 2.7113 Accuracy 0.4986\n",
      "Epoch 7 Batch 100 Loss 2.6947 Accuracy 0.5007\n",
      "Epoch 7 Batch 150 Loss 2.6777 Accuracy 0.5032\n",
      "Epoch 7 Batch 200 Loss 2.6820 Accuracy 0.5034\n",
      "Epoch 7 Batch 250 Loss 2.6847 Accuracy 0.5029\n",
      "Epoch 7 Batch 300 Loss 2.6791 Accuracy 0.5037\n",
      "Epoch 7 Batch 350 Loss 2.6757 Accuracy 0.5044\n",
      "Epoch 7 Batch 400 Loss 2.6728 Accuracy 0.5048\n",
      "Epoch 7 Batch 450 Loss 2.6665 Accuracy 0.5060\n",
      "Epoch 7 Batch 500 Loss 2.6636 Accuracy 0.5063\n",
      "Epoch 7 Batch 550 Loss 2.6593 Accuracy 0.5070\n",
      "Epoch 7 Batch 600 Loss 2.6578 Accuracy 0.5074\n",
      "Epoch 7 Batch 650 Loss 2.6534 Accuracy 0.5081\n",
      "Epoch 7 Batch 700 Loss 2.6513 Accuracy 0.5084\n",
      "Epoch 7 Batch 750 Loss 2.6466 Accuracy 0.5092\n",
      "Epoch 7 Batch 800 Loss 2.6424 Accuracy 0.5099\n",
      "Epoch 7 Loss 2.6417 Accuracy 0.5101\n",
      "Time taken for 1 epoch: 1096.40 secs\n",
      "\n",
      "Epoch 8 Batch 0 Loss 2.4381 Accuracy 0.5172\n",
      "Epoch 8 Batch 50 Loss 2.4488 Accuracy 0.5333\n",
      "Epoch 8 Batch 100 Loss 2.4280 Accuracy 0.5363\n",
      "Epoch 8 Batch 150 Loss 2.4197 Accuracy 0.5379\n",
      "Epoch 8 Batch 200 Loss 2.4248 Accuracy 0.5374\n",
      "Epoch 8 Batch 250 Loss 2.4234 Accuracy 0.5371\n",
      "Epoch 8 Batch 300 Loss 2.4129 Accuracy 0.5392\n",
      "Epoch 8 Batch 350 Loss 2.4099 Accuracy 0.5400\n",
      "Epoch 8 Batch 400 Loss 2.4105 Accuracy 0.5398\n",
      "Epoch 8 Batch 450 Loss 2.4092 Accuracy 0.5402\n",
      "Epoch 8 Batch 500 Loss 2.4067 Accuracy 0.5408\n",
      "Epoch 8 Batch 550 Loss 2.4057 Accuracy 0.5408\n",
      "Epoch 8 Batch 600 Loss 2.4081 Accuracy 0.5404\n",
      "Epoch 8 Batch 650 Loss 2.4076 Accuracy 0.5407\n",
      "Epoch 8 Batch 700 Loss 2.4061 Accuracy 0.5412\n",
      "Epoch 8 Batch 750 Loss 2.4059 Accuracy 0.5414\n",
      "Epoch 8 Batch 800 Loss 2.4078 Accuracy 0.5413\n",
      "Epoch 8 Loss 2.4073 Accuracy 0.5413\n",
      "Time taken for 1 epoch: 1063.38 secs\n",
      "\n",
      "Epoch 9 Batch 0 Loss 2.1424 Accuracy 0.5746\n",
      "Epoch 9 Batch 50 Loss 2.2341 Accuracy 0.5634\n",
      "Epoch 9 Batch 100 Loss 2.2363 Accuracy 0.5635\n",
      "Epoch 9 Batch 150 Loss 2.2283 Accuracy 0.5650\n",
      "Epoch 9 Batch 200 Loss 2.2350 Accuracy 0.5643\n",
      "Epoch 9 Batch 250 Loss 2.2411 Accuracy 0.5633\n",
      "Epoch 9 Batch 300 Loss 2.2356 Accuracy 0.5641\n",
      "Epoch 9 Batch 350 Loss 2.2324 Accuracy 0.5648\n",
      "Epoch 9 Batch 400 Loss 2.2316 Accuracy 0.5650\n",
      "Epoch 9 Batch 450 Loss 2.2328 Accuracy 0.5647\n",
      "Epoch 9 Batch 500 Loss 2.2344 Accuracy 0.5644\n",
      "Epoch 9 Batch 550 Loss 2.2332 Accuracy 0.5645\n",
      "Epoch 9 Batch 600 Loss 2.2345 Accuracy 0.5641\n",
      "Epoch 9 Batch 650 Loss 2.2343 Accuracy 0.5642\n",
      "Epoch 9 Batch 700 Loss 2.2345 Accuracy 0.5643\n",
      "Epoch 9 Batch 750 Loss 2.2329 Accuracy 0.5646\n",
      "Epoch 9 Batch 800 Loss 2.2316 Accuracy 0.5648\n",
      "Epoch 9 Loss 2.2313 Accuracy 0.5649\n",
      "Time taken for 1 epoch: 1148.56 secs\n",
      "\n",
      "Epoch 10 Batch 0 Loss 2.1749 Accuracy 0.5606\n",
      "Epoch 10 Batch 50 Loss 2.0583 Accuracy 0.5869\n",
      "Epoch 10 Batch 100 Loss 2.0631 Accuracy 0.5862\n",
      "Epoch 10 Batch 150 Loss 2.0701 Accuracy 0.5851\n",
      "Epoch 10 Batch 200 Loss 2.0750 Accuracy 0.5844\n",
      "Epoch 10 Batch 250 Loss 2.0782 Accuracy 0.5840\n",
      "Epoch 10 Batch 300 Loss 2.0792 Accuracy 0.5844\n",
      "Epoch 10 Batch 350 Loss 2.0824 Accuracy 0.5840\n",
      "Epoch 10 Batch 400 Loss 2.0852 Accuracy 0.5837\n",
      "Epoch 10 Batch 450 Loss 2.0831 Accuracy 0.5841\n",
      "Epoch 10 Batch 500 Loss 2.0827 Accuracy 0.5846\n",
      "Epoch 10 Batch 550 Loss 2.0830 Accuracy 0.5847\n",
      "Epoch 10 Batch 600 Loss 2.0868 Accuracy 0.5842\n",
      "Epoch 10 Batch 650 Loss 2.0898 Accuracy 0.5839\n",
      "Epoch 10 Batch 700 Loss 2.0914 Accuracy 0.5838\n",
      "Epoch 10 Batch 750 Loss 2.0934 Accuracy 0.5835\n",
      "Epoch 10 Batch 800 Loss 2.0936 Accuracy 0.5836\n",
      "Saving checkpoint for epoch 10 at ./checkpoints/train/ckpt-2\n",
      "Epoch 10 Loss 2.0932 Accuracy 0.5837\n",
      "Time taken for 1 epoch: 1154.04 secs\n",
      "\n",
      "Epoch 11 Batch 0 Loss 2.1264 Accuracy 0.5783\n",
      "Epoch 11 Batch 50 Loss 1.9680 Accuracy 0.6001\n",
      "Epoch 11 Batch 100 Loss 1.9674 Accuracy 0.6009\n",
      "Epoch 11 Batch 150 Loss 1.9618 Accuracy 0.6021\n",
      "Epoch 11 Batch 200 Loss 1.9615 Accuracy 0.6021\n",
      "Epoch 11 Batch 250 Loss 1.9630 Accuracy 0.6016\n",
      "Epoch 11 Batch 300 Loss 1.9625 Accuracy 0.6018\n",
      "Epoch 11 Batch 350 Loss 1.9649 Accuracy 0.6015\n",
      "Epoch 11 Batch 400 Loss 1.9631 Accuracy 0.6021\n",
      "Epoch 11 Batch 450 Loss 1.9679 Accuracy 0.6015\n",
      "Epoch 11 Batch 500 Loss 1.9742 Accuracy 0.6005\n",
      "Epoch 11 Batch 550 Loss 1.9747 Accuracy 0.6006\n",
      "Epoch 11 Batch 600 Loss 1.9760 Accuracy 0.6004\n",
      "Epoch 11 Batch 650 Loss 1.9758 Accuracy 0.6005\n",
      "Epoch 11 Batch 700 Loss 1.9757 Accuracy 0.6005\n",
      "Epoch 11 Batch 750 Loss 1.9775 Accuracy 0.6002\n",
      "Epoch 11 Batch 800 Loss 1.9793 Accuracy 0.6000\n",
      "Epoch 11 Loss 1.9795 Accuracy 0.6000\n",
      "Time taken for 1 epoch: 1146.26 secs\n",
      "\n",
      "Epoch 12 Batch 0 Loss 1.7838 Accuracy 0.6180\n",
      "Epoch 12 Batch 50 Loss 1.8155 Accuracy 0.6244\n",
      "Epoch 12 Batch 100 Loss 1.8470 Accuracy 0.6189\n",
      "Epoch 12 Batch 150 Loss 1.8444 Accuracy 0.6192\n",
      "Epoch 12 Batch 200 Loss 1.8463 Accuracy 0.6188\n",
      "Epoch 12 Batch 250 Loss 1.8498 Accuracy 0.6186\n",
      "Epoch 12 Batch 300 Loss 1.8542 Accuracy 0.6180\n",
      "Epoch 12 Batch 350 Loss 1.8585 Accuracy 0.6174\n",
      "Epoch 12 Batch 400 Loss 1.8629 Accuracy 0.6166\n",
      "Epoch 12 Batch 450 Loss 1.8663 Accuracy 0.6163\n",
      "Epoch 12 Batch 500 Loss 1.8685 Accuracy 0.6160\n",
      "Epoch 12 Batch 550 Loss 1.8714 Accuracy 0.6156\n",
      "Epoch 12 Batch 600 Loss 1.8716 Accuracy 0.6156\n",
      "Epoch 12 Batch 650 Loss 1.8747 Accuracy 0.6152\n",
      "Epoch 12 Batch 700 Loss 1.8764 Accuracy 0.6149\n",
      "Epoch 12 Batch 750 Loss 1.8807 Accuracy 0.6144\n",
      "Epoch 12 Batch 800 Loss 1.8830 Accuracy 0.6140\n",
      "Epoch 12 Loss 1.8832 Accuracy 0.6139\n",
      "Time taken for 1 epoch: 1101.88 secs\n",
      "\n",
      "Epoch 13 Batch 0 Loss 1.5902 Accuracy 0.6723\n",
      "Epoch 13 Batch 50 Loss 1.7794 Accuracy 0.6263\n",
      "Epoch 13 Batch 100 Loss 1.7655 Accuracy 0.6294\n",
      "Epoch 13 Batch 150 Loss 1.7617 Accuracy 0.6307\n",
      "Epoch 13 Batch 200 Loss 1.7638 Accuracy 0.6298\n",
      "Epoch 13 Batch 250 Loss 1.7703 Accuracy 0.6287\n",
      "Epoch 13 Batch 300 Loss 1.7770 Accuracy 0.6280\n",
      "Epoch 13 Batch 350 Loss 1.7794 Accuracy 0.6278\n",
      "Epoch 13 Batch 400 Loss 1.7803 Accuracy 0.6281\n",
      "Epoch 13 Batch 450 Loss 1.7805 Accuracy 0.6282\n",
      "Epoch 13 Batch 500 Loss 1.7836 Accuracy 0.6280\n",
      "Epoch 13 Batch 550 Loss 1.7861 Accuracy 0.6279\n",
      "Epoch 13 Batch 600 Loss 1.7890 Accuracy 0.6277\n",
      "Epoch 13 Batch 650 Loss 1.7942 Accuracy 0.6270\n",
      "Epoch 13 Batch 700 Loss 1.7985 Accuracy 0.6263\n",
      "Epoch 13 Batch 750 Loss 1.8022 Accuracy 0.6258\n",
      "Epoch 13 Batch 800 Loss 1.8023 Accuracy 0.6260\n",
      "Epoch 13 Loss 1.8024 Accuracy 0.6260\n",
      "Time taken for 1 epoch: 1076.34 secs\n",
      "\n",
      "Epoch 14 Batch 0 Loss 1.6186 Accuracy 0.6504\n",
      "Epoch 14 Batch 50 Loss 1.6726 Accuracy 0.6428\n",
      "Epoch 14 Batch 100 Loss 1.6886 Accuracy 0.6413\n",
      "Epoch 14 Batch 150 Loss 1.7019 Accuracy 0.6396\n",
      "Epoch 14 Batch 200 Loss 1.6995 Accuracy 0.6399\n",
      "Epoch 14 Batch 250 Loss 1.7025 Accuracy 0.6398\n",
      "Epoch 14 Batch 300 Loss 1.7054 Accuracy 0.6395\n",
      "Epoch 14 Batch 350 Loss 1.7126 Accuracy 0.6385\n",
      "Epoch 14 Batch 400 Loss 1.7146 Accuracy 0.6382\n",
      "Epoch 14 Batch 450 Loss 1.7189 Accuracy 0.6375\n",
      "Epoch 14 Batch 500 Loss 1.7224 Accuracy 0.6372\n",
      "Epoch 14 Batch 550 Loss 1.7262 Accuracy 0.6367\n",
      "Epoch 14 Batch 600 Loss 1.7271 Accuracy 0.6367\n",
      "Epoch 14 Batch 650 Loss 1.7272 Accuracy 0.6369\n",
      "Epoch 14 Batch 700 Loss 1.7299 Accuracy 0.6365\n",
      "Epoch 14 Batch 750 Loss 1.7325 Accuracy 0.6361\n",
      "Epoch 14 Batch 800 Loss 1.7336 Accuracy 0.6360\n",
      "Epoch 14 Loss 1.7344 Accuracy 0.6359\n",
      "Time taken for 1 epoch: 1122.86 secs\n",
      "\n",
      "Epoch 15 Batch 0 Loss 1.4454 Accuracy 0.7001\n",
      "Epoch 15 Batch 50 Loss 1.6110 Accuracy 0.6550\n",
      "Epoch 15 Batch 100 Loss 1.6262 Accuracy 0.6517\n",
      "Epoch 15 Batch 150 Loss 1.6256 Accuracy 0.6522\n",
      "Epoch 15 Batch 200 Loss 1.6316 Accuracy 0.6513\n",
      "Epoch 15 Batch 250 Loss 1.6363 Accuracy 0.6504\n",
      "Epoch 15 Batch 300 Loss 1.6383 Accuracy 0.6503\n",
      "Epoch 15 Batch 350 Loss 1.6437 Accuracy 0.6496\n",
      "Epoch 15 Batch 400 Loss 1.6476 Accuracy 0.6492\n"
     ]
    },
    {
     "ename": "KeyboardInterrupt",
     "evalue": "",
     "output_type": "error",
     "traceback": [
      "\u001b[0;31m---------------------------------------------------------------------------\u001b[0m",
      "\u001b[0;31mKeyboardInterrupt\u001b[0m                         Traceback (most recent call last)",
      "\u001b[0;32m/var/folders/3q/jdpvjfp16290w3y4kytswtfhfy5pvf/T/ipykernel_29000/1325266189.py\u001b[0m in \u001b[0;36m<module>\u001b[0;34m\u001b[0m\n\u001b[1;32m      7\u001b[0m     \u001b[0;31m# inp -> portuguese, tar -> english\u001b[0m\u001b[0;34m\u001b[0m\u001b[0;34m\u001b[0m\u001b[0;34m\u001b[0m\u001b[0m\n\u001b[1;32m      8\u001b[0m     \u001b[0;32mfor\u001b[0m \u001b[0;34m(\u001b[0m\u001b[0mbatch\u001b[0m\u001b[0;34m,\u001b[0m \u001b[0;34m(\u001b[0m\u001b[0minp\u001b[0m\u001b[0;34m,\u001b[0m \u001b[0mtar\u001b[0m\u001b[0;34m)\u001b[0m\u001b[0;34m)\u001b[0m \u001b[0;32min\u001b[0m \u001b[0menumerate\u001b[0m\u001b[0;34m(\u001b[0m\u001b[0mtrain_batches\u001b[0m\u001b[0;34m)\u001b[0m\u001b[0;34m:\u001b[0m\u001b[0;34m\u001b[0m\u001b[0;34m\u001b[0m\u001b[0m\n\u001b[0;32m----> 9\u001b[0;31m         \u001b[0mtrain_step\u001b[0m\u001b[0;34m(\u001b[0m\u001b[0minp\u001b[0m\u001b[0;34m,\u001b[0m \u001b[0mtar\u001b[0m\u001b[0;34m)\u001b[0m\u001b[0;34m\u001b[0m\u001b[0;34m\u001b[0m\u001b[0m\n\u001b[0m\u001b[1;32m     10\u001b[0m \u001b[0;34m\u001b[0m\u001b[0m\n\u001b[1;32m     11\u001b[0m         \u001b[0;32mif\u001b[0m \u001b[0mbatch\u001b[0m \u001b[0;34m%\u001b[0m \u001b[0;36m50\u001b[0m \u001b[0;34m==\u001b[0m \u001b[0;36m0\u001b[0m\u001b[0;34m:\u001b[0m\u001b[0;34m\u001b[0m\u001b[0;34m\u001b[0m\u001b[0m\n",
      "\u001b[0;32m~/anaconda3/envs/yfy/lib/python3.7/site-packages/tensorflow/python/util/traceback_utils.py\u001b[0m in \u001b[0;36merror_handler\u001b[0;34m(*args, **kwargs)\u001b[0m\n\u001b[1;32m    148\u001b[0m     \u001b[0mfiltered_tb\u001b[0m \u001b[0;34m=\u001b[0m \u001b[0;32mNone\u001b[0m\u001b[0;34m\u001b[0m\u001b[0;34m\u001b[0m\u001b[0m\n\u001b[1;32m    149\u001b[0m     \u001b[0;32mtry\u001b[0m\u001b[0;34m:\u001b[0m\u001b[0;34m\u001b[0m\u001b[0;34m\u001b[0m\u001b[0m\n\u001b[0;32m--> 150\u001b[0;31m       \u001b[0;32mreturn\u001b[0m \u001b[0mfn\u001b[0m\u001b[0;34m(\u001b[0m\u001b[0;34m*\u001b[0m\u001b[0margs\u001b[0m\u001b[0;34m,\u001b[0m \u001b[0;34m**\u001b[0m\u001b[0mkwargs\u001b[0m\u001b[0;34m)\u001b[0m\u001b[0;34m\u001b[0m\u001b[0;34m\u001b[0m\u001b[0m\n\u001b[0m\u001b[1;32m    151\u001b[0m     \u001b[0;32mexcept\u001b[0m \u001b[0mException\u001b[0m \u001b[0;32mas\u001b[0m \u001b[0me\u001b[0m\u001b[0;34m:\u001b[0m\u001b[0;34m\u001b[0m\u001b[0;34m\u001b[0m\u001b[0m\n\u001b[1;32m    152\u001b[0m       \u001b[0mfiltered_tb\u001b[0m \u001b[0;34m=\u001b[0m \u001b[0m_process_traceback_frames\u001b[0m\u001b[0;34m(\u001b[0m\u001b[0me\u001b[0m\u001b[0;34m.\u001b[0m\u001b[0m__traceback__\u001b[0m\u001b[0;34m)\u001b[0m\u001b[0;34m\u001b[0m\u001b[0;34m\u001b[0m\u001b[0m\n",
      "\u001b[0;32m~/anaconda3/envs/yfy/lib/python3.7/site-packages/tensorflow/python/eager/def_function.py\u001b[0m in \u001b[0;36m__call__\u001b[0;34m(self, *args, **kwds)\u001b[0m\n\u001b[1;32m    908\u001b[0m \u001b[0;34m\u001b[0m\u001b[0m\n\u001b[1;32m    909\u001b[0m       \u001b[0;32mwith\u001b[0m \u001b[0mOptionalXlaContext\u001b[0m\u001b[0;34m(\u001b[0m\u001b[0mself\u001b[0m\u001b[0;34m.\u001b[0m\u001b[0m_jit_compile\u001b[0m\u001b[0;34m)\u001b[0m\u001b[0;34m:\u001b[0m\u001b[0;34m\u001b[0m\u001b[0;34m\u001b[0m\u001b[0m\n\u001b[0;32m--> 910\u001b[0;31m         \u001b[0mresult\u001b[0m \u001b[0;34m=\u001b[0m \u001b[0mself\u001b[0m\u001b[0;34m.\u001b[0m\u001b[0m_call\u001b[0m\u001b[0;34m(\u001b[0m\u001b[0;34m*\u001b[0m\u001b[0margs\u001b[0m\u001b[0;34m,\u001b[0m \u001b[0;34m**\u001b[0m\u001b[0mkwds\u001b[0m\u001b[0;34m)\u001b[0m\u001b[0;34m\u001b[0m\u001b[0;34m\u001b[0m\u001b[0m\n\u001b[0m\u001b[1;32m    911\u001b[0m \u001b[0;34m\u001b[0m\u001b[0m\n\u001b[1;32m    912\u001b[0m       \u001b[0mnew_tracing_count\u001b[0m \u001b[0;34m=\u001b[0m \u001b[0mself\u001b[0m\u001b[0;34m.\u001b[0m\u001b[0mexperimental_get_tracing_count\u001b[0m\u001b[0;34m(\u001b[0m\u001b[0;34m)\u001b[0m\u001b[0;34m\u001b[0m\u001b[0;34m\u001b[0m\u001b[0m\n",
      "\u001b[0;32m~/anaconda3/envs/yfy/lib/python3.7/site-packages/tensorflow/python/eager/def_function.py\u001b[0m in \u001b[0;36m_call\u001b[0;34m(self, *args, **kwds)\u001b[0m\n\u001b[1;32m    940\u001b[0m       \u001b[0;31m# In this case we have created variables on the first call, so we run the\u001b[0m\u001b[0;34m\u001b[0m\u001b[0;34m\u001b[0m\u001b[0;34m\u001b[0m\u001b[0m\n\u001b[1;32m    941\u001b[0m       \u001b[0;31m# defunned version which is guaranteed to never create variables.\u001b[0m\u001b[0;34m\u001b[0m\u001b[0;34m\u001b[0m\u001b[0;34m\u001b[0m\u001b[0m\n\u001b[0;32m--> 942\u001b[0;31m       \u001b[0;32mreturn\u001b[0m \u001b[0mself\u001b[0m\u001b[0;34m.\u001b[0m\u001b[0m_stateless_fn\u001b[0m\u001b[0;34m(\u001b[0m\u001b[0;34m*\u001b[0m\u001b[0margs\u001b[0m\u001b[0;34m,\u001b[0m \u001b[0;34m**\u001b[0m\u001b[0mkwds\u001b[0m\u001b[0;34m)\u001b[0m  \u001b[0;31m# pylint: disable=not-callable\u001b[0m\u001b[0;34m\u001b[0m\u001b[0;34m\u001b[0m\u001b[0m\n\u001b[0m\u001b[1;32m    943\u001b[0m     \u001b[0;32melif\u001b[0m \u001b[0mself\u001b[0m\u001b[0;34m.\u001b[0m\u001b[0m_stateful_fn\u001b[0m \u001b[0;32mis\u001b[0m \u001b[0;32mnot\u001b[0m \u001b[0;32mNone\u001b[0m\u001b[0;34m:\u001b[0m\u001b[0;34m\u001b[0m\u001b[0;34m\u001b[0m\u001b[0m\n\u001b[1;32m    944\u001b[0m       \u001b[0;31m# Release the lock early so that multiple threads can perform the call\u001b[0m\u001b[0;34m\u001b[0m\u001b[0;34m\u001b[0m\u001b[0;34m\u001b[0m\u001b[0m\n",
      "\u001b[0;32m~/anaconda3/envs/yfy/lib/python3.7/site-packages/tensorflow/python/eager/function.py\u001b[0m in \u001b[0;36m__call__\u001b[0;34m(self, *args, **kwargs)\u001b[0m\n\u001b[1;32m   3129\u001b[0m        filtered_flat_args) = self._maybe_define_function(args, kwargs)\n\u001b[1;32m   3130\u001b[0m     return graph_function._call_flat(\n\u001b[0;32m-> 3131\u001b[0;31m         filtered_flat_args, captured_inputs=graph_function.captured_inputs)  # pylint: disable=protected-access\n\u001b[0m\u001b[1;32m   3132\u001b[0m \u001b[0;34m\u001b[0m\u001b[0m\n\u001b[1;32m   3133\u001b[0m   \u001b[0;34m@\u001b[0m\u001b[0mproperty\u001b[0m\u001b[0;34m\u001b[0m\u001b[0;34m\u001b[0m\u001b[0m\n",
      "\u001b[0;32m~/anaconda3/envs/yfy/lib/python3.7/site-packages/tensorflow/python/eager/function.py\u001b[0m in \u001b[0;36m_call_flat\u001b[0;34m(self, args, captured_inputs, cancellation_manager)\u001b[0m\n\u001b[1;32m   1958\u001b[0m       \u001b[0;31m# No tape is watching; skip to running the function.\u001b[0m\u001b[0;34m\u001b[0m\u001b[0;34m\u001b[0m\u001b[0;34m\u001b[0m\u001b[0m\n\u001b[1;32m   1959\u001b[0m       return self._build_call_outputs(self._inference_function.call(\n\u001b[0;32m-> 1960\u001b[0;31m           ctx, args, cancellation_manager=cancellation_manager))\n\u001b[0m\u001b[1;32m   1961\u001b[0m     forward_backward = self._select_forward_and_backward_functions(\n\u001b[1;32m   1962\u001b[0m         \u001b[0margs\u001b[0m\u001b[0;34m,\u001b[0m\u001b[0;34m\u001b[0m\u001b[0;34m\u001b[0m\u001b[0m\n",
      "\u001b[0;32m~/anaconda3/envs/yfy/lib/python3.7/site-packages/tensorflow/python/eager/function.py\u001b[0m in \u001b[0;36mcall\u001b[0;34m(self, ctx, args, cancellation_manager)\u001b[0m\n\u001b[1;32m    601\u001b[0m               \u001b[0minputs\u001b[0m\u001b[0;34m=\u001b[0m\u001b[0margs\u001b[0m\u001b[0;34m,\u001b[0m\u001b[0;34m\u001b[0m\u001b[0;34m\u001b[0m\u001b[0m\n\u001b[1;32m    602\u001b[0m               \u001b[0mattrs\u001b[0m\u001b[0;34m=\u001b[0m\u001b[0mattrs\u001b[0m\u001b[0;34m,\u001b[0m\u001b[0;34m\u001b[0m\u001b[0;34m\u001b[0m\u001b[0m\n\u001b[0;32m--> 603\u001b[0;31m               ctx=ctx)\n\u001b[0m\u001b[1;32m    604\u001b[0m         \u001b[0;32melse\u001b[0m\u001b[0;34m:\u001b[0m\u001b[0;34m\u001b[0m\u001b[0;34m\u001b[0m\u001b[0m\n\u001b[1;32m    605\u001b[0m           outputs = execute.execute_with_cancellation(\n",
      "\u001b[0;32m~/anaconda3/envs/yfy/lib/python3.7/site-packages/tensorflow/python/eager/execute.py\u001b[0m in \u001b[0;36mquick_execute\u001b[0;34m(op_name, num_outputs, inputs, attrs, ctx, name)\u001b[0m\n\u001b[1;32m     57\u001b[0m     \u001b[0mctx\u001b[0m\u001b[0;34m.\u001b[0m\u001b[0mensure_initialized\u001b[0m\u001b[0;34m(\u001b[0m\u001b[0;34m)\u001b[0m\u001b[0;34m\u001b[0m\u001b[0;34m\u001b[0m\u001b[0m\n\u001b[1;32m     58\u001b[0m     tensors = pywrap_tfe.TFE_Py_Execute(ctx._handle, device_name, op_name,\n\u001b[0;32m---> 59\u001b[0;31m                                         inputs, attrs, num_outputs)\n\u001b[0m\u001b[1;32m     60\u001b[0m   \u001b[0;32mexcept\u001b[0m \u001b[0mcore\u001b[0m\u001b[0;34m.\u001b[0m\u001b[0m_NotOkStatusException\u001b[0m \u001b[0;32mas\u001b[0m \u001b[0me\u001b[0m\u001b[0;34m:\u001b[0m\u001b[0;34m\u001b[0m\u001b[0;34m\u001b[0m\u001b[0m\n\u001b[1;32m     61\u001b[0m     \u001b[0;32mif\u001b[0m \u001b[0mname\u001b[0m \u001b[0;32mis\u001b[0m \u001b[0;32mnot\u001b[0m \u001b[0;32mNone\u001b[0m\u001b[0;34m:\u001b[0m\u001b[0;34m\u001b[0m\u001b[0;34m\u001b[0m\u001b[0m\n",
      "\u001b[0;31mKeyboardInterrupt\u001b[0m: "
     ]
    }
   ],
   "source": [
    "for epoch in range(EPOCHS):\n",
    "    start = time.time()\n",
    "\n",
    "    train_loss.reset_states()\n",
    "    train_accuracy.reset_states()\n",
    "\n",
    "    # inp -> portuguese, tar -> english\n",
    "    for (batch, (inp, tar)) in enumerate(train_batches):\n",
    "        train_step(inp, tar)\n",
    "\n",
    "        if batch % 50 == 0:\n",
    "            print(f'Epoch {epoch + 1} Batch {batch} Loss {train_loss.result():.4f} Accuracy {train_accuracy.result():.4f}')\n",
    "\n",
    "    if (epoch + 1) % 5 == 0:\n",
    "        ckpt_save_path = ckpt_manager.save()\n",
    "        print(f'Saving checkpoint for epoch {epoch+1} at {ckpt_save_path}')\n",
    "\n",
    "    print(f'Epoch {epoch + 1} Loss {train_loss.result():.4f} Accuracy {train_accuracy.result():.4f}')\n",
    "\n",
    "    print(f'Time taken for 1 epoch: {time.time() - start:.2f} secs\\n')"
   ]
  },
  {
   "cell_type": "code",
   "execution_count": null,
   "id": "5f99aa3d-4684-4f60-a492-e71560a5934d",
   "metadata": {},
   "outputs": [],
   "source": [
    "class Translator(tf.Module):\n",
    "    def __init__(self, tokenizers, transformer):\n",
    "        self.tokenizers = tokenizers\n",
    "        self.transformer = transformer\n",
    "\n",
    "    def __call__(self, sentence, max_length=20):\n",
    "        # input sentence is portuguese, hence adding the start and end token\n",
    "        assert isinstance(sentence, tf.Tensor)\n",
    "        if len(sentence.shape) == 0:\n",
    "            sentence = sentence[tf.newaxis]\n",
    "    # padded input sentence\n",
    "    sentence = self.tokenizers.pt.tokenize(sentence).to_tensor()\n",
    "    \n",
    "    encoder_input = sentence\n",
    "\n",
    "    # as the target is english, the first token to the transformer should be the\n",
    "    # english start token.\n",
    "    start_end = self.tokenizers.en.tokenize([''])[0]\n",
    "    start = start_end[0][tf.newaxis]\n",
    "    end = start_end[1][tf.newaxis]\n",
    "\n",
    "    # `tf.TensorArray` is required here (instead of a python list) so that the\n",
    "    # dynamic-loop can be traced by `tf.function`.\n",
    "    output_array = tf.TensorArray(dtype=tf.int64, size=0, dynamic_size=True)\n",
    "    output_array = output_array.write(0, start)\n",
    "    \n",
    "    for i in tf.range(max_length):\n",
    "        output = tf.transpose(output_array.stack())\n",
    "        predictions, _ = self.transformer([encoder_input, output], training=False)\n",
    "\n",
    "        # select the last token from the seq_len dimension\n",
    "        predictions = predictions[:, -1:, :]  # (batch_size, 1, vocab_size)\n",
    "\n",
    "        predicted_id = tf.argmax(predictions, axis=-1)\n",
    "\n",
    "        # concatentate the predicted_id to the output which is given to the decoder\n",
    "        # as its input.\n",
    "        output_array = output_array.write(i+1, predicted_id[0])\n",
    "\n",
    "        if predicted_id == end:\n",
    "            break\n",
    "\n",
    "    output = tf.transpose(output_array.stack())\n",
    "    # output.shape (1, tokens)\n",
    "    text = tokenizers.en.detokenize(output)[0]  # shape: ()\n",
    "\n",
    "    tokens = tokenizers.en.lookup(output)[0]\n",
    "\n",
    "    # `tf.function` prevents us from using the attention_weights that were\n",
    "    # calculated on the last iteration of the loop. So recalculate them outside\n",
    "    # the loop.\n",
    "    _, attention_weights = self.transformer([encoder_input, output[:,:-1]], training=False)\n",
    "\n",
    "    return text, tokens, attention_weights"
   ]
  },
  {
   "cell_type": "code",
   "execution_count": null,
   "id": "bf4a738a-1d47-4aff-a92f-1783124827ec",
   "metadata": {},
   "outputs": [],
   "source": [
    "translator = Translator(tokenizers, transformer)"
   ]
  },
  {
   "cell_type": "code",
   "execution_count": null,
   "id": "5bfc60d3-7d8e-452c-88fb-258857cf4f85",
   "metadata": {},
   "outputs": [],
   "source": [
    "def print_translation(sentence, tokens, ground_truth):\n",
    "    print(f'{\"Input:\":15s}: {sentence}')\n",
    "    print(f'{\"Prediction\":15s}: {tokens.numpy().decode(\"utf-8\")}')\n",
    "    print(f'{\"Ground truth\":15s}: {ground_truth}')"
   ]
  },
  {
   "cell_type": "code",
   "execution_count": null,
   "id": "c0543888-96c3-4c4b-80b6-82af4860e0a7",
   "metadata": {},
   "outputs": [],
   "source": []
  }
 ],
 "metadata": {
  "kernelspec": {
   "display_name": "Python 3 (ipykernel)",
   "language": "python",
   "name": "python3"
  },
  "language_info": {
   "codemirror_mode": {
    "name": "ipython",
    "version": 3
   },
   "file_extension": ".py",
   "mimetype": "text/x-python",
   "name": "python",
   "nbconvert_exporter": "python",
   "pygments_lexer": "ipython3",
   "version": "3.7.11"
  }
 },
 "nbformat": 4,
 "nbformat_minor": 5
}
